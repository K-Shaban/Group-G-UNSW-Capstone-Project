{
 "cells": [
  {
   "cell_type": "code",
   "execution_count": 1,
   "metadata": {},
   "outputs": [],
   "source": [
    "import pandas as pd\n",
    "import numpy as np\n",
    "from scipy import stats\n",
    "import matplotlib.pyplot as plt\n",
    "import glob\n",
    "import os\n",
    "\n",
    "from sklearn.model_selection import train_test_split\n",
    "from sklearn.linear_model import LinearRegression\n",
    "from sklearn.metrics import mean_squared_error, r2_score\n",
    "from xgboost import XGBRegressor\n",
    "\n",
    "from sklearn.ensemble import RandomForestRegressor\n",
    "from sklearn.preprocessing import StandardScaler\n",
    "from itertools import combinations"
   ]
  },
  {
   "cell_type": "code",
   "execution_count": 2,
   "metadata": {},
   "outputs": [],
   "source": [
    "forecast_demand_file_path = '../data/forecastdemand_nsw.csv'\n",
    "actual_demand_file_path = '../data/totaldemand_nsw.csv'\n",
    "temperature_file_path = '../data/temperature_nsw.csv'\n",
    "forecast_demand = pd.read_csv(forecast_demand_file_path)\n",
    "actual_demand = pd.read_csv(actual_demand_file_path)\n",
    "temperature = pd.read_csv(temperature_file_path)\n",
    "\n",
    "Exports_file_path = '../data/Exports - quarterly 2010-2023.csv'\n",
    "GDP_file_path = '../data/GDP - quarterly 2010-2023.csv'\n",
    "Interest_file_path = '../data/Interest rate - daily 2011-2023.csv'\n",
    "SolarInstall_file_path = '../data/Solar installation number - monthly 2007-2023.csv'\n",
    "SolarOutput_file_path = '../data/Solar outputs - monthly 2015-2023.csv'\n",
    "Unemployment_file_path = '../data/Unemployment rate - monthly 2010-2023.csv'\n",
    "Wholesale_file_path = '../data/Wholesale electricity price - half hourly 2014-2023.csv'\n",
    "cpi_file_path = '../data/inflation-data.xls'\n",
    "comm_file_path = '../data/Commodity prices index - monthly 2010-2023.csv'\n",
    "rainfall_file_path = '../data/Rainfall - daily 2010-2023.csv'\n",
    "weather_file_path = '../data/Weather - daily 2022-2023.csv'\n",
    "\n",
    "cpi = pd.read_excel(cpi_file_path)\n",
    "Exports = pd.read_csv(Exports_file_path)\n",
    "GDP = pd.read_csv(GDP_file_path)\n",
    "Interest = pd.read_csv(Interest_file_path)\n",
    "SolarInstall = pd.read_csv(SolarInstall_file_path)\n",
    "SolarOutput = pd.read_csv(SolarOutput_file_path)\n",
    "Unemployment = pd.read_csv(Unemployment_file_path)\n",
    "Wholesale = pd.read_csv(Wholesale_file_path)\n",
    "Comm = pd.read_csv(comm_file_path)\n",
    "Rainfall = pd.read_csv(rainfall_file_path)\n",
    "Weather = pd.read_csv(weather_file_path)"
   ]
  },
  {
   "cell_type": "code",
   "execution_count": 3,
   "metadata": {},
   "outputs": [
    {
     "data": {
      "text/html": [
       "<div>\n",
       "<style scoped>\n",
       "    .dataframe tbody tr th:only-of-type {\n",
       "        vertical-align: middle;\n",
       "    }\n",
       "\n",
       "    .dataframe tbody tr th {\n",
       "        vertical-align: top;\n",
       "    }\n",
       "\n",
       "    .dataframe thead th {\n",
       "        text-align: right;\n",
       "    }\n",
       "</style>\n",
       "<table border=\"1\" class=\"dataframe\">\n",
       "  <thead>\n",
       "    <tr style=\"text-align: right;\">\n",
       "      <th></th>\n",
       "      <th>DATETIME</th>\n",
       "      <th>REGIONID</th>\n",
       "      <th>FORECASTDEMAND</th>\n",
       "      <th>PREDISPATCHSEQNO</th>\n",
       "      <th>PERIODID</th>\n",
       "      <th>LASTCHANGED</th>\n",
       "    </tr>\n",
       "  </thead>\n",
       "  <tbody>\n",
       "    <tr>\n",
       "      <td>0</td>\n",
       "      <td>2010-01-01 00:00:00</td>\n",
       "      <td>NSW1</td>\n",
       "      <td>7832.04</td>\n",
       "      <td>2009123018</td>\n",
       "      <td>71</td>\n",
       "      <td>2009-12-30 12:31:49</td>\n",
       "    </tr>\n",
       "    <tr>\n",
       "      <td>1</td>\n",
       "      <td>2010-01-01 00:00:00</td>\n",
       "      <td>NSW1</td>\n",
       "      <td>7832.04</td>\n",
       "      <td>2009123019</td>\n",
       "      <td>70</td>\n",
       "      <td>2009-12-30 13:01:43</td>\n",
       "    </tr>\n",
       "    <tr>\n",
       "      <td>2</td>\n",
       "      <td>2010-01-01 00:00:00</td>\n",
       "      <td>NSW1</td>\n",
       "      <td>7832.03</td>\n",
       "      <td>2009123020</td>\n",
       "      <td>69</td>\n",
       "      <td>2009-12-30 13:31:36</td>\n",
       "    </tr>\n",
       "    <tr>\n",
       "      <td>3</td>\n",
       "      <td>2010-01-01 00:00:00</td>\n",
       "      <td>NSW1</td>\n",
       "      <td>7832.03</td>\n",
       "      <td>2009123021</td>\n",
       "      <td>68</td>\n",
       "      <td>2009-12-30 14:01:44</td>\n",
       "    </tr>\n",
       "    <tr>\n",
       "      <td>4</td>\n",
       "      <td>2010-01-01 00:00:00</td>\n",
       "      <td>NSW1</td>\n",
       "      <td>7830.96</td>\n",
       "      <td>2009123022</td>\n",
       "      <td>67</td>\n",
       "      <td>2009-12-30 14:31:35</td>\n",
       "    </tr>\n",
       "  </tbody>\n",
       "</table>\n",
       "</div>"
      ],
      "text/plain": [
       "              DATETIME REGIONID  FORECASTDEMAND  PREDISPATCHSEQNO  PERIODID  \\\n",
       "0  2010-01-01 00:00:00     NSW1         7832.04        2009123018        71   \n",
       "1  2010-01-01 00:00:00     NSW1         7832.04        2009123019        70   \n",
       "2  2010-01-01 00:00:00     NSW1         7832.03        2009123020        69   \n",
       "3  2010-01-01 00:00:00     NSW1         7832.03        2009123021        68   \n",
       "4  2010-01-01 00:00:00     NSW1         7830.96        2009123022        67   \n",
       "\n",
       "           LASTCHANGED  \n",
       "0  2009-12-30 12:31:49  \n",
       "1  2009-12-30 13:01:43  \n",
       "2  2009-12-30 13:31:36  \n",
       "3  2009-12-30 14:01:44  \n",
       "4  2009-12-30 14:31:35  "
      ]
     },
     "execution_count": 3,
     "metadata": {},
     "output_type": "execute_result"
    }
   ],
   "source": [
    "forecast_demand.head()"
   ]
  },
  {
   "cell_type": "code",
   "execution_count": 4,
   "metadata": {},
   "outputs": [
    {
     "data": {
      "text/html": [
       "<div>\n",
       "<style scoped>\n",
       "    .dataframe tbody tr th:only-of-type {\n",
       "        vertical-align: middle;\n",
       "    }\n",
       "\n",
       "    .dataframe tbody tr th {\n",
       "        vertical-align: top;\n",
       "    }\n",
       "\n",
       "    .dataframe thead th {\n",
       "        text-align: right;\n",
       "    }\n",
       "</style>\n",
       "<table border=\"1\" class=\"dataframe\">\n",
       "  <thead>\n",
       "    <tr style=\"text-align: right;\">\n",
       "      <th></th>\n",
       "      <th>DATETIME</th>\n",
       "      <th>REGIONID</th>\n",
       "      <th>TOTALDEMAND</th>\n",
       "    </tr>\n",
       "  </thead>\n",
       "  <tbody>\n",
       "    <tr>\n",
       "      <td>1323393</td>\n",
       "      <td>2022-07-31 23:40:00</td>\n",
       "      <td>NSW1</td>\n",
       "      <td>8180.34</td>\n",
       "    </tr>\n",
       "    <tr>\n",
       "      <td>1323394</td>\n",
       "      <td>2022-07-31 23:45:00</td>\n",
       "      <td>NSW1</td>\n",
       "      <td>8237.50</td>\n",
       "    </tr>\n",
       "    <tr>\n",
       "      <td>1323395</td>\n",
       "      <td>2022-07-31 23:50:00</td>\n",
       "      <td>NSW1</td>\n",
       "      <td>8109.83</td>\n",
       "    </tr>\n",
       "    <tr>\n",
       "      <td>1323396</td>\n",
       "      <td>2022-07-31 23:55:00</td>\n",
       "      <td>NSW1</td>\n",
       "      <td>8044.52</td>\n",
       "    </tr>\n",
       "    <tr>\n",
       "      <td>1323397</td>\n",
       "      <td>2022-08-01 00:00:00</td>\n",
       "      <td>NSW1</td>\n",
       "      <td>8027.28</td>\n",
       "    </tr>\n",
       "  </tbody>\n",
       "</table>\n",
       "</div>"
      ],
      "text/plain": [
       "                    DATETIME REGIONID  TOTALDEMAND\n",
       "1323393  2022-07-31 23:40:00     NSW1      8180.34\n",
       "1323394  2022-07-31 23:45:00     NSW1      8237.50\n",
       "1323395  2022-07-31 23:50:00     NSW1      8109.83\n",
       "1323396  2022-07-31 23:55:00     NSW1      8044.52\n",
       "1323397  2022-08-01 00:00:00     NSW1      8027.28"
      ]
     },
     "execution_count": 4,
     "metadata": {},
     "output_type": "execute_result"
    }
   ],
   "source": [
    "actual_demand.head()\n",
    "actual_demand.tail()"
   ]
  },
  {
   "cell_type": "code",
   "execution_count": 5,
   "metadata": {},
   "outputs": [
    {
     "data": {
      "text/plain": [
       "DATETIME       2010-01-01 00:00:00\n",
       "LOCATION                     94766\n",
       "TEMPERATURE                   -1.3\n",
       "dtype: object"
      ]
     },
     "execution_count": 5,
     "metadata": {},
     "output_type": "execute_result"
    }
   ],
   "source": [
    "temperature.head()\n",
    "temperature.tail()\n",
    "temperature.loc[temperature['TEMPERATURE'] <= -5, 'TEMPERATURE'] = np.nan\n",
    "temperature.min()"
   ]
  },
  {
   "cell_type": "code",
   "execution_count": 6,
   "metadata": {},
   "outputs": [],
   "source": [
    "path = '../data/nswdemand2022onwards'\n",
    "all_files = glob.glob(os.path.join(path, \"*.csv\"))\n",
    "\n",
    "total_demand_2022onwards = pd.concat((pd.read_csv(f) for f in all_files), ignore_index=True)"
   ]
  },
  {
   "cell_type": "code",
   "execution_count": 7,
   "metadata": {},
   "outputs": [
    {
     "data": {
      "text/html": [
       "<div>\n",
       "<style scoped>\n",
       "    .dataframe tbody tr th:only-of-type {\n",
       "        vertical-align: middle;\n",
       "    }\n",
       "\n",
       "    .dataframe tbody tr th {\n",
       "        vertical-align: top;\n",
       "    }\n",
       "\n",
       "    .dataframe thead th {\n",
       "        text-align: right;\n",
       "    }\n",
       "</style>\n",
       "<table border=\"1\" class=\"dataframe\">\n",
       "  <thead>\n",
       "    <tr style=\"text-align: right;\">\n",
       "      <th></th>\n",
       "      <th>REGION</th>\n",
       "      <th>SETTLEMENTDATE</th>\n",
       "      <th>TOTALDEMAND</th>\n",
       "      <th>RRP</th>\n",
       "      <th>PERIODTYPE</th>\n",
       "    </tr>\n",
       "  </thead>\n",
       "  <tbody>\n",
       "    <tr>\n",
       "      <td>0</td>\n",
       "      <td>NSW1</td>\n",
       "      <td>2022/01/01 00:05:00</td>\n",
       "      <td>7206.03</td>\n",
       "      <td>124.86</td>\n",
       "      <td>TRADE</td>\n",
       "    </tr>\n",
       "    <tr>\n",
       "      <td>1</td>\n",
       "      <td>NSW1</td>\n",
       "      <td>2022/01/01 00:10:00</td>\n",
       "      <td>7174.26</td>\n",
       "      <td>126.02</td>\n",
       "      <td>TRADE</td>\n",
       "    </tr>\n",
       "    <tr>\n",
       "      <td>2</td>\n",
       "      <td>NSW1</td>\n",
       "      <td>2022/01/01 00:15:00</td>\n",
       "      <td>7135.00</td>\n",
       "      <td>124.93</td>\n",
       "      <td>TRADE</td>\n",
       "    </tr>\n",
       "    <tr>\n",
       "      <td>3</td>\n",
       "      <td>NSW1</td>\n",
       "      <td>2022/01/01 00:20:00</td>\n",
       "      <td>7065.84</td>\n",
       "      <td>113.54</td>\n",
       "      <td>TRADE</td>\n",
       "    </tr>\n",
       "    <tr>\n",
       "      <td>4</td>\n",
       "      <td>NSW1</td>\n",
       "      <td>2022/01/01 00:25:00</td>\n",
       "      <td>6995.08</td>\n",
       "      <td>123.12</td>\n",
       "      <td>TRADE</td>\n",
       "    </tr>\n",
       "  </tbody>\n",
       "</table>\n",
       "</div>"
      ],
      "text/plain": [
       "  REGION       SETTLEMENTDATE  TOTALDEMAND     RRP PERIODTYPE\n",
       "0   NSW1  2022/01/01 00:05:00      7206.03  124.86      TRADE\n",
       "1   NSW1  2022/01/01 00:10:00      7174.26  126.02      TRADE\n",
       "2   NSW1  2022/01/01 00:15:00      7135.00  124.93      TRADE\n",
       "3   NSW1  2022/01/01 00:20:00      7065.84  113.54      TRADE\n",
       "4   NSW1  2022/01/01 00:25:00      6995.08  123.12      TRADE"
      ]
     },
     "execution_count": 7,
     "metadata": {},
     "output_type": "execute_result"
    }
   ],
   "source": [
    "total_demand_2022onwards.head()"
   ]
  },
  {
   "cell_type": "code",
   "execution_count": 8,
   "metadata": {},
   "outputs": [
    {
     "data": {
      "text/html": [
       "<div>\n",
       "<style scoped>\n",
       "    .dataframe tbody tr th:only-of-type {\n",
       "        vertical-align: middle;\n",
       "    }\n",
       "\n",
       "    .dataframe tbody tr th {\n",
       "        vertical-align: top;\n",
       "    }\n",
       "\n",
       "    .dataframe thead th {\n",
       "        text-align: right;\n",
       "    }\n",
       "</style>\n",
       "<table border=\"1\" class=\"dataframe\">\n",
       "  <thead>\n",
       "    <tr style=\"text-align: right;\">\n",
       "      <th></th>\n",
       "      <th>Date Time</th>\n",
       "      <th>Total Demand</th>\n",
       "    </tr>\n",
       "  </thead>\n",
       "  <tbody>\n",
       "    <tr>\n",
       "      <td>0</td>\n",
       "      <td>2010-01-01 00:00:00</td>\n",
       "      <td>7997.41</td>\n",
       "    </tr>\n",
       "    <tr>\n",
       "      <td>1</td>\n",
       "      <td>2010-01-01 00:05:00</td>\n",
       "      <td>7946.51</td>\n",
       "    </tr>\n",
       "    <tr>\n",
       "      <td>2</td>\n",
       "      <td>2010-01-01 00:10:00</td>\n",
       "      <td>7921.55</td>\n",
       "    </tr>\n",
       "    <tr>\n",
       "      <td>3</td>\n",
       "      <td>2010-01-01 00:15:00</td>\n",
       "      <td>7837.84</td>\n",
       "    </tr>\n",
       "    <tr>\n",
       "      <td>4</td>\n",
       "      <td>2010-01-01 00:20:00</td>\n",
       "      <td>7781.11</td>\n",
       "    </tr>\n",
       "  </tbody>\n",
       "</table>\n",
       "</div>"
      ],
      "text/plain": [
       "             Date Time  Total Demand\n",
       "0  2010-01-01 00:00:00       7997.41\n",
       "1  2010-01-01 00:05:00       7946.51\n",
       "2  2010-01-01 00:10:00       7921.55\n",
       "3  2010-01-01 00:15:00       7837.84\n",
       "4  2010-01-01 00:20:00       7781.11"
      ]
     },
     "execution_count": 8,
     "metadata": {},
     "output_type": "execute_result"
    }
   ],
   "source": [
    "df = pd.DataFrame({'Date Time': actual_demand['DATETIME'], 'Total Demand': actual_demand['TOTALDEMAND']})\n",
    "df.head()"
   ]
  },
  {
   "cell_type": "code",
   "execution_count": 9,
   "metadata": {},
   "outputs": [
    {
     "data": {
      "text/html": [
       "<div>\n",
       "<style scoped>\n",
       "    .dataframe tbody tr th:only-of-type {\n",
       "        vertical-align: middle;\n",
       "    }\n",
       "\n",
       "    .dataframe tbody tr th {\n",
       "        vertical-align: top;\n",
       "    }\n",
       "\n",
       "    .dataframe thead th {\n",
       "        text-align: right;\n",
       "    }\n",
       "</style>\n",
       "<table border=\"1\" class=\"dataframe\">\n",
       "  <thead>\n",
       "    <tr style=\"text-align: right;\">\n",
       "      <th></th>\n",
       "      <th>Date Time</th>\n",
       "      <th>Total Demand</th>\n",
       "      <th>TEMPERATURE</th>\n",
       "    </tr>\n",
       "  </thead>\n",
       "  <tbody>\n",
       "    <tr>\n",
       "      <td>0</td>\n",
       "      <td>2010-01-01 00:00:00</td>\n",
       "      <td>7997.41</td>\n",
       "      <td>23.1</td>\n",
       "    </tr>\n",
       "    <tr>\n",
       "      <td>1</td>\n",
       "      <td>2010-01-01 00:05:00</td>\n",
       "      <td>7946.51</td>\n",
       "      <td>NaN</td>\n",
       "    </tr>\n",
       "    <tr>\n",
       "      <td>2</td>\n",
       "      <td>2010-01-01 00:10:00</td>\n",
       "      <td>7921.55</td>\n",
       "      <td>NaN</td>\n",
       "    </tr>\n",
       "    <tr>\n",
       "      <td>3</td>\n",
       "      <td>2010-01-01 00:15:00</td>\n",
       "      <td>7837.84</td>\n",
       "      <td>NaN</td>\n",
       "    </tr>\n",
       "    <tr>\n",
       "      <td>4</td>\n",
       "      <td>2010-01-01 00:20:00</td>\n",
       "      <td>7781.11</td>\n",
       "      <td>NaN</td>\n",
       "    </tr>\n",
       "    <tr>\n",
       "      <td>5</td>\n",
       "      <td>2010-01-01 00:25:00</td>\n",
       "      <td>7685.53</td>\n",
       "      <td>NaN</td>\n",
       "    </tr>\n",
       "    <tr>\n",
       "      <td>6</td>\n",
       "      <td>2010-01-01 00:30:00</td>\n",
       "      <td>7683.34</td>\n",
       "      <td>22.9</td>\n",
       "    </tr>\n",
       "    <tr>\n",
       "      <td>7</td>\n",
       "      <td>2010-01-01 00:35:00</td>\n",
       "      <td>7624.60</td>\n",
       "      <td>NaN</td>\n",
       "    </tr>\n",
       "    <tr>\n",
       "      <td>8</td>\n",
       "      <td>2010-01-01 00:40:00</td>\n",
       "      <td>7606.74</td>\n",
       "      <td>NaN</td>\n",
       "    </tr>\n",
       "    <tr>\n",
       "      <td>9</td>\n",
       "      <td>2010-01-01 00:45:00</td>\n",
       "      <td>7555.47</td>\n",
       "      <td>NaN</td>\n",
       "    </tr>\n",
       "    <tr>\n",
       "      <td>10</td>\n",
       "      <td>2010-01-01 00:50:00</td>\n",
       "      <td>7497.55</td>\n",
       "      <td>22.7</td>\n",
       "    </tr>\n",
       "    <tr>\n",
       "      <td>11</td>\n",
       "      <td>2010-01-01 00:55:00</td>\n",
       "      <td>7347.68</td>\n",
       "      <td>NaN</td>\n",
       "    </tr>\n",
       "    <tr>\n",
       "      <td>12</td>\n",
       "      <td>2010-01-01 01:00:00</td>\n",
       "      <td>7270.08</td>\n",
       "      <td>22.6</td>\n",
       "    </tr>\n",
       "    <tr>\n",
       "      <td>13</td>\n",
       "      <td>2010-01-01 01:05:00</td>\n",
       "      <td>7197.55</td>\n",
       "      <td>NaN</td>\n",
       "    </tr>\n",
       "    <tr>\n",
       "      <td>14</td>\n",
       "      <td>2010-01-01 01:10:00</td>\n",
       "      <td>7208.13</td>\n",
       "      <td>NaN</td>\n",
       "    </tr>\n",
       "  </tbody>\n",
       "</table>\n",
       "</div>"
      ],
      "text/plain": [
       "              Date Time  Total Demand  TEMPERATURE\n",
       "0   2010-01-01 00:00:00       7997.41         23.1\n",
       "1   2010-01-01 00:05:00       7946.51          NaN\n",
       "2   2010-01-01 00:10:00       7921.55          NaN\n",
       "3   2010-01-01 00:15:00       7837.84          NaN\n",
       "4   2010-01-01 00:20:00       7781.11          NaN\n",
       "5   2010-01-01 00:25:00       7685.53          NaN\n",
       "6   2010-01-01 00:30:00       7683.34         22.9\n",
       "7   2010-01-01 00:35:00       7624.60          NaN\n",
       "8   2010-01-01 00:40:00       7606.74          NaN\n",
       "9   2010-01-01 00:45:00       7555.47          NaN\n",
       "10  2010-01-01 00:50:00       7497.55         22.7\n",
       "11  2010-01-01 00:55:00       7347.68          NaN\n",
       "12  2010-01-01 01:00:00       7270.08         22.6\n",
       "13  2010-01-01 01:05:00       7197.55          NaN\n",
       "14  2010-01-01 01:10:00       7208.13          NaN"
      ]
     },
     "execution_count": 9,
     "metadata": {},
     "output_type": "execute_result"
    }
   ],
   "source": [
    "df = pd.merge(df,temperature,left_on=['Date Time'], right_on=['DATETIME'], how = 'left')\n",
    "df=df.drop(columns=['DATETIME', 'LOCATION'])\n",
    "df.head(15)"
   ]
  },
  {
   "cell_type": "code",
   "execution_count": 10,
   "metadata": {},
   "outputs": [],
   "source": [
    "df['TEMPERATURE'] = df['TEMPERATURE'].interpolate(method='linear')"
   ]
  },
  {
   "cell_type": "code",
   "execution_count": 11,
   "metadata": {},
   "outputs": [
    {
     "data": {
      "text/html": [
       "<div>\n",
       "<style scoped>\n",
       "    .dataframe tbody tr th:only-of-type {\n",
       "        vertical-align: middle;\n",
       "    }\n",
       "\n",
       "    .dataframe tbody tr th {\n",
       "        vertical-align: top;\n",
       "    }\n",
       "\n",
       "    .dataframe thead th {\n",
       "        text-align: right;\n",
       "    }\n",
       "</style>\n",
       "<table border=\"1\" class=\"dataframe\">\n",
       "  <thead>\n",
       "    <tr style=\"text-align: right;\">\n",
       "      <th></th>\n",
       "      <th>Date Time</th>\n",
       "      <th>Total Demand</th>\n",
       "      <th>TEMPERATURE</th>\n",
       "    </tr>\n",
       "  </thead>\n",
       "  <tbody>\n",
       "    <tr>\n",
       "      <td>0</td>\n",
       "      <td>2010-01-01 00:00:00</td>\n",
       "      <td>7997.41</td>\n",
       "      <td>23.100000</td>\n",
       "    </tr>\n",
       "    <tr>\n",
       "      <td>1</td>\n",
       "      <td>2010-01-01 00:05:00</td>\n",
       "      <td>7946.51</td>\n",
       "      <td>23.066667</td>\n",
       "    </tr>\n",
       "    <tr>\n",
       "      <td>2</td>\n",
       "      <td>2010-01-01 00:10:00</td>\n",
       "      <td>7921.55</td>\n",
       "      <td>23.033333</td>\n",
       "    </tr>\n",
       "    <tr>\n",
       "      <td>3</td>\n",
       "      <td>2010-01-01 00:15:00</td>\n",
       "      <td>7837.84</td>\n",
       "      <td>23.000000</td>\n",
       "    </tr>\n",
       "    <tr>\n",
       "      <td>4</td>\n",
       "      <td>2010-01-01 00:20:00</td>\n",
       "      <td>7781.11</td>\n",
       "      <td>22.966667</td>\n",
       "    </tr>\n",
       "    <tr>\n",
       "      <td>5</td>\n",
       "      <td>2010-01-01 00:25:00</td>\n",
       "      <td>7685.53</td>\n",
       "      <td>22.933333</td>\n",
       "    </tr>\n",
       "    <tr>\n",
       "      <td>6</td>\n",
       "      <td>2010-01-01 00:30:00</td>\n",
       "      <td>7683.34</td>\n",
       "      <td>22.900000</td>\n",
       "    </tr>\n",
       "    <tr>\n",
       "      <td>7</td>\n",
       "      <td>2010-01-01 00:35:00</td>\n",
       "      <td>7624.60</td>\n",
       "      <td>22.850000</td>\n",
       "    </tr>\n",
       "    <tr>\n",
       "      <td>8</td>\n",
       "      <td>2010-01-01 00:40:00</td>\n",
       "      <td>7606.74</td>\n",
       "      <td>22.800000</td>\n",
       "    </tr>\n",
       "    <tr>\n",
       "      <td>9</td>\n",
       "      <td>2010-01-01 00:45:00</td>\n",
       "      <td>7555.47</td>\n",
       "      <td>22.750000</td>\n",
       "    </tr>\n",
       "    <tr>\n",
       "      <td>10</td>\n",
       "      <td>2010-01-01 00:50:00</td>\n",
       "      <td>7497.55</td>\n",
       "      <td>22.700000</td>\n",
       "    </tr>\n",
       "    <tr>\n",
       "      <td>11</td>\n",
       "      <td>2010-01-01 00:55:00</td>\n",
       "      <td>7347.68</td>\n",
       "      <td>22.650000</td>\n",
       "    </tr>\n",
       "    <tr>\n",
       "      <td>12</td>\n",
       "      <td>2010-01-01 01:00:00</td>\n",
       "      <td>7270.08</td>\n",
       "      <td>22.600000</td>\n",
       "    </tr>\n",
       "    <tr>\n",
       "      <td>13</td>\n",
       "      <td>2010-01-01 01:05:00</td>\n",
       "      <td>7197.55</td>\n",
       "      <td>22.583333</td>\n",
       "    </tr>\n",
       "    <tr>\n",
       "      <td>14</td>\n",
       "      <td>2010-01-01 01:10:00</td>\n",
       "      <td>7208.13</td>\n",
       "      <td>22.566667</td>\n",
       "    </tr>\n",
       "  </tbody>\n",
       "</table>\n",
       "</div>"
      ],
      "text/plain": [
       "              Date Time  Total Demand  TEMPERATURE\n",
       "0   2010-01-01 00:00:00       7997.41    23.100000\n",
       "1   2010-01-01 00:05:00       7946.51    23.066667\n",
       "2   2010-01-01 00:10:00       7921.55    23.033333\n",
       "3   2010-01-01 00:15:00       7837.84    23.000000\n",
       "4   2010-01-01 00:20:00       7781.11    22.966667\n",
       "5   2010-01-01 00:25:00       7685.53    22.933333\n",
       "6   2010-01-01 00:30:00       7683.34    22.900000\n",
       "7   2010-01-01 00:35:00       7624.60    22.850000\n",
       "8   2010-01-01 00:40:00       7606.74    22.800000\n",
       "9   2010-01-01 00:45:00       7555.47    22.750000\n",
       "10  2010-01-01 00:50:00       7497.55    22.700000\n",
       "11  2010-01-01 00:55:00       7347.68    22.650000\n",
       "12  2010-01-01 01:00:00       7270.08    22.600000\n",
       "13  2010-01-01 01:05:00       7197.55    22.583333\n",
       "14  2010-01-01 01:10:00       7208.13    22.566667"
      ]
     },
     "execution_count": 11,
     "metadata": {},
     "output_type": "execute_result"
    }
   ],
   "source": [
    "df.head(15)"
   ]
  },
  {
   "cell_type": "code",
   "execution_count": 12,
   "metadata": {},
   "outputs": [],
   "source": [
    "df['Date Time'] = pd.to_datetime(df['Date Time'])"
   ]
  },
  {
   "cell_type": "code",
   "execution_count": 13,
   "metadata": {},
   "outputs": [
    {
     "data": {
      "text/plain": [
       "<matplotlib.axes._subplots.AxesSubplot at 0x298ad749548>"
      ]
     },
     "execution_count": 13,
     "metadata": {},
     "output_type": "execute_result"
    },
    {
     "data": {
      "image/png": "[encoded data removed]",
      "text/plain": [
       "<Figure size 432x288 with 1 Axes>"
      ]
     },
     "metadata": {
      "needs_background": "light"
     },
     "output_type": "display_data"
    }
   ],
   "source": [
    "df.plot(x='Date Time', y = 'Total Demand')"
   ]
  },
  {
   "cell_type": "code",
   "execution_count": 14,
   "metadata": {},
   "outputs": [
    {
     "data": {
      "text/plain": [
       "<matplotlib.axes._subplots.AxesSubplot at 0x29896d1c408>"
      ]
     },
     "execution_count": 14,
     "metadata": {},
     "output_type": "execute_result"
    },
    {
     "data": {
      "image/png": "[encoded data removed]",
      "text/plain": [
       "<Figure size 432x288 with 1 Axes>"
      ]
     },
     "metadata": {
      "needs_background": "light"
     },
     "output_type": "display_data"
    }
   ],
   "source": [
    "forecast_demand['DATETIME'] = pd.to_datetime(forecast_demand['DATETIME'])\n",
    "actual_demand['DATETIME'] = pd.to_datetime(actual_demand['DATETIME'])\n",
    "(forecast_demand.set_index('DATETIME').resample('1H').mean()['FORECASTDEMAND'] - actual_demand.set_index('DATETIME').resample('1H').mean()['TOTALDEMAND']).plot()"
   ]
  },
  {
   "cell_type": "code",
   "execution_count": 15,
   "metadata": {},
   "outputs": [],
   "source": [
    "forecast_demand['DATETIME'] = pd.to_datetime(forecast_demand['DATETIME'])\n",
    "actual_demand['DATETIME'] = pd.to_datetime(actual_demand['DATETIME'])\n",
    "fore = forecast_demand.set_index('DATETIME').resample('1H').mean()[['FORECASTDEMAND']]"
   ]
  },
  {
   "cell_type": "code",
   "execution_count": 16,
   "metadata": {},
   "outputs": [],
   "source": [
    "actu = actual_demand.set_index('DATETIME').resample('1H').mean()[['TOTALDEMAND']]"
   ]
  },
  {
   "cell_type": "code",
   "execution_count": 17,
   "metadata": {},
   "outputs": [],
   "source": [
    "merged_df = fore.join(actu).dropna()"
   ]
  },
  {
   "cell_type": "code",
   "execution_count": 18,
   "metadata": {},
   "outputs": [],
   "source": [
    "merged_df['DIFF'] = merged_df.eval('TOTALDEMAND - FORECASTDEMAND')"
   ]
  },
  {
   "cell_type": "code",
   "execution_count": 19,
   "metadata": {},
   "outputs": [
    {
     "name": "stdout",
     "output_type": "stream",
     "text": [
      "Mean Squared Error: 82514.66202466807\n",
      "R-squared: 0.9519046393461148\n"
     ]
    }
   ],
   "source": [
    "mse = mean_squared_error(merged_df['FORECASTDEMAND'], merged_df['TOTALDEMAND'])\n",
    "r2 = r2_score(merged_df['FORECASTDEMAND'], merged_df['TOTALDEMAND'])\n",
    "\n",
    "print(f\"Mean Squared Error: {mse}\")\n",
    "print(f\"R-squared: {r2}\")"
   ]
  },
  {
   "cell_type": "code",
   "execution_count": 20,
   "metadata": {},
   "outputs": [
    {
     "data": {
      "text/html": [
       "<div>\n",
       "<style scoped>\n",
       "    .dataframe tbody tr th:only-of-type {\n",
       "        vertical-align: middle;\n",
       "    }\n",
       "\n",
       "    .dataframe tbody tr th {\n",
       "        vertical-align: top;\n",
       "    }\n",
       "\n",
       "    .dataframe thead th {\n",
       "        text-align: right;\n",
       "    }\n",
       "</style>\n",
       "<table border=\"1\" class=\"dataframe\">\n",
       "  <thead>\n",
       "    <tr style=\"text-align: right;\">\n",
       "      <th></th>\n",
       "      <th>FORECASTDEMAND</th>\n",
       "      <th>TOTALDEMAND</th>\n",
       "      <th>DIFF</th>\n",
       "    </tr>\n",
       "    <tr>\n",
       "      <th>DATETIME</th>\n",
       "      <th></th>\n",
       "      <th></th>\n",
       "      <th></th>\n",
       "    </tr>\n",
       "  </thead>\n",
       "  <tbody>\n",
       "    <tr>\n",
       "      <td>2010-01-01 00:00:00</td>\n",
       "      <td>7753.063237</td>\n",
       "      <td>7707.110833</td>\n",
       "      <td>-45.952404</td>\n",
       "    </tr>\n",
       "    <tr>\n",
       "      <td>2010-01-01 01:00:00</td>\n",
       "      <td>7258.107972</td>\n",
       "      <td>7014.171667</td>\n",
       "      <td>-243.936305</td>\n",
       "    </tr>\n",
       "    <tr>\n",
       "      <td>2010-01-01 02:00:00</td>\n",
       "      <td>6619.177007</td>\n",
       "      <td>6491.061667</td>\n",
       "      <td>-128.115340</td>\n",
       "    </tr>\n",
       "    <tr>\n",
       "      <td>2010-01-01 03:00:00</td>\n",
       "      <td>6232.568278</td>\n",
       "      <td>6256.344167</td>\n",
       "      <td>23.775889</td>\n",
       "    </tr>\n",
       "    <tr>\n",
       "      <td>2010-01-01 04:00:00</td>\n",
       "      <td>6082.359439</td>\n",
       "      <td>6225.776667</td>\n",
       "      <td>143.417227</td>\n",
       "    </tr>\n",
       "    <tr>\n",
       "      <td>...</td>\n",
       "      <td>...</td>\n",
       "      <td>...</td>\n",
       "      <td>...</td>\n",
       "    </tr>\n",
       "    <tr>\n",
       "      <td>2022-07-31 20:00:00</td>\n",
       "      <td>10225.684016</td>\n",
       "      <td>10081.598333</td>\n",
       "      <td>-144.085682</td>\n",
       "    </tr>\n",
       "    <tr>\n",
       "      <td>2022-07-31 21:00:00</td>\n",
       "      <td>9737.377099</td>\n",
       "      <td>9399.320000</td>\n",
       "      <td>-338.057099</td>\n",
       "    </tr>\n",
       "    <tr>\n",
       "      <td>2022-07-31 22:00:00</td>\n",
       "      <td>9139.791481</td>\n",
       "      <td>8769.945833</td>\n",
       "      <td>-369.845648</td>\n",
       "    </tr>\n",
       "    <tr>\n",
       "      <td>2022-07-31 23:00:00</td>\n",
       "      <td>8594.027554</td>\n",
       "      <td>8285.235833</td>\n",
       "      <td>-308.791721</td>\n",
       "    </tr>\n",
       "    <tr>\n",
       "      <td>2022-08-01 00:00:00</td>\n",
       "      <td>8231.479437</td>\n",
       "      <td>8027.280000</td>\n",
       "      <td>-204.199437</td>\n",
       "    </tr>\n",
       "  </tbody>\n",
       "</table>\n",
       "<p>108451 rows × 3 columns</p>\n",
       "</div>"
      ],
      "text/plain": [
       "                     FORECASTDEMAND   TOTALDEMAND        DIFF\n",
       "DATETIME                                                     \n",
       "2010-01-01 00:00:00     7753.063237   7707.110833  -45.952404\n",
       "2010-01-01 01:00:00     7258.107972   7014.171667 -243.936305\n",
       "2010-01-01 02:00:00     6619.177007   6491.061667 -128.115340\n",
       "2010-01-01 03:00:00     6232.568278   6256.344167   23.775889\n",
       "2010-01-01 04:00:00     6082.359439   6225.776667  143.417227\n",
       "...                             ...           ...         ...\n",
       "2022-07-31 20:00:00    10225.684016  10081.598333 -144.085682\n",
       "2022-07-31 21:00:00     9737.377099   9399.320000 -338.057099\n",
       "2022-07-31 22:00:00     9139.791481   8769.945833 -369.845648\n",
       "2022-07-31 23:00:00     8594.027554   8285.235833 -308.791721\n",
       "2022-08-01 00:00:00     8231.479437   8027.280000 -204.199437\n",
       "\n",
       "[108451 rows x 3 columns]"
      ]
     },
     "execution_count": 20,
     "metadata": {},
     "output_type": "execute_result"
    }
   ],
   "source": [
    "merged_df"
   ]
  },
  {
   "cell_type": "code",
   "execution_count": 21,
   "metadata": {},
   "outputs": [
    {
     "ename": "SyntaxError",
     "evalue": "can't assign to literal (<ipython-input-21-fd6080764d52>, line 2)",
     "output_type": "error",
     "traceback": [
      "\u001b[1;36m  File \u001b[1;32m\"<ipython-input-21-fd6080764d52>\"\u001b[1;36m, line \u001b[1;32m2\u001b[0m\n\u001b[1;33m    ['Demand_Previous'] = merged_df['TOTALDEMAND'].shift(periods=(-24))\u001b[0m\n\u001b[1;37m                                                                       ^\u001b[0m\n\u001b[1;31mSyntaxError\u001b[0m\u001b[1;31m:\u001b[0m can't assign to literal\n"
     ]
    }
   ],
   "source": [
    "lag_value =-3\n",
    "merged_df['Demand_Previous'] = merged_df['TOTALDEMAND'].shift(periods=(-24))\n",
    "merged_df['Demand_Lagged'] = merged_df['TOTALDEMAND'].shift(periods=(lag_value))\n",
    "merged_df['Demand_Rolling'] = merged_df['Demand_Lagged'].rolling(window=720).mean()"
   ]
  },
  {
   "cell_type": "code",
   "execution_count": null,
   "metadata": {},
   "outputs": [],
   "source": [
    "plt.figure(figsize=(8, 6))\n",
    "plt.scatter(merged_df['FORECASTDEMAND'], merged_df['TOTALDEMAND'], alpha=0.5)\n",
    "plt.xlabel(\"Actual Values\")\n",
    "plt.ylabel(\"Forecast Values\")\n",
    "plt.title(\"Actual vs. Forecast Values\")\n",
    "\n",
    "# Add a diagonal line for reference (perfect predictions)\n",
    "plt.plot([min(merged_df['FORECASTDEMAND']), max(merged_df['FORECASTDEMAND'])], [min(merged_df['FORECASTDEMAND']), max(merged_df['FORECASTDEMAND'])], color='red', linestyle='--')\n",
    "\n",
    "plt.show()"
   ]
  },
  {
   "cell_type": "code",
   "execution_count": null,
   "metadata": {},
   "outputs": [],
   "source": [
    "act_demand = actual_demand.set_index('DATETIME').resample('1H').mean()"
   ]
  },
  {
   "cell_type": "code",
   "execution_count": null,
   "metadata": {},
   "outputs": [],
   "source": [
    "merged_df['HourOfDay'] = merged_df.index.hour\n",
    "merged_df['DayOfWeek'] = merged_df.index.dayofweek\n",
    "merged_df['DayOfYear'] = merged_df.index.dayofyear\n",
    "merged_df['IsWeekend'] = np.where((merged_df['DayOfWeek'] == 5) | (merged_df['DayOfWeek'] == 6), 1, 0)"
   ]
  },
  {
   "cell_type": "code",
   "execution_count": null,
   "metadata": {},
   "outputs": [],
   "source": [
    "merged_df"
   ]
  },
  {
   "cell_type": "code",
   "execution_count": null,
   "metadata": {},
   "outputs": [],
   "source": [
    "temperature['DATETIME'] = pd.to_datetime(temperature['DATETIME'])\n",
    "temp = temperature.set_index('DATETIME').resample('1H').mean()\n",
    "\n",
    "# Apply the lag to the 'TOTALDEMAND' column\n",
    "temp['TEMPERATURE_lagged'] = temp['TEMPERATURE'].shift(periods=lag_value)"
   ]
  },
  {
   "cell_type": "code",
   "execution_count": null,
   "metadata": {},
   "outputs": [],
   "source": [
    "temp.head(20)"
   ]
  },
  {
   "cell_type": "code",
   "execution_count": null,
   "metadata": {},
   "outputs": [],
   "source": [
    "data = merged_df.merge(temp, left_index=True, right_index=True, how='inner')"
   ]
  },
  {
   "cell_type": "code",
   "execution_count": null,
   "metadata": {},
   "outputs": [],
   "source": [
    "data = data.drop(['LOCATION','TEMPERATURE', 'FORECASTDEMAND', 'DIFF'], axis=1)"
   ]
  },
  {
   "cell_type": "code",
   "execution_count": null,
   "metadata": {},
   "outputs": [],
   "source": [
    "data = data.dropna()"
   ]
  },
  {
   "cell_type": "code",
   "execution_count": null,
   "metadata": {},
   "outputs": [],
   "source": [
    "data"
   ]
  },
  {
   "cell_type": "code",
   "execution_count": null,
   "metadata": {},
   "outputs": [],
   "source": [
    "target_column = 'TOTALDEMAND'\n",
    "feature_columns = [col for col in data.columns if col != target_column]\n",
    "\n",
    "# Split the dataset into training and testing sets\n",
    "X_train, X_test, y_train, y_test = train_test_split(data[feature_columns], data[target_column], test_size=0.2, random_state=42)\n",
    "\n",
    "# Create an instance of the LinearRegression model\n",
    "model = LinearRegression()\n",
    "\n",
    "# Train the model on the training data\n",
    "model.fit(X_train, y_train)\n",
    "\n",
    "# Make predictions on the test data\n",
    "y_pred = model.predict(X_test)\n",
    "\n",
    "# Evaluate the model's performance\n",
    "mse = mean_squared_error(y_test, y_pred)\n",
    "r2 = r2_score(y_test, y_pred)\n",
    "\n",
    "print(f\"Mean Squared Error: {mse}\")\n",
    "print(f\"R-squared: {r2}\")\n",
    "\n",
    "# Optionally, you can inspect the model coefficients and intercept\n",
    "coefficients = model.coef_\n",
    "intercept = model.intercept_\n",
    "\n",
    "print(\"Coefficients:\", coefficients)\n",
    "print(\"Intercept:\", intercept)"
   ]
  },
  {
   "cell_type": "code",
   "execution_count": null,
   "metadata": {},
   "outputs": [],
   "source": [
    "plt.figure(figsize=(8, 6))\n",
    "plt.scatter(y_test, y_pred, alpha=0.5)\n",
    "plt.xlabel(\"Actual Values\")\n",
    "plt.ylabel(\"Predicted Values\")\n",
    "plt.title(\"Actual vs. Predicted Values\")\n",
    "\n",
    "# Add a diagonal line for reference (perfect predictions)\n",
    "plt.plot([min(y_test), max(y_test)], [min(y_test), max(y_test)], color='red', linestyle='--')\n",
    "\n",
    "plt.show()"
   ]
  },
  {
   "cell_type": "code",
   "execution_count": null,
   "metadata": {},
   "outputs": [],
   "source": [
    "# Assuming you have a DataFrame named 'data' with a 'Date' index and columns\n",
    "# 'HourOfDay', 'DayOfWeek', 'DayOfYear', 'TEMPERATURE_lagged', and 'TOTALDEMAND'\n",
    "\n",
    "# Define target and feature columns\n",
    "target_column = 'TOTALDEMAND'\n",
    "feature_columns = ['HourOfDay', 'DayOfWeek', 'DayOfYear', 'IsWeekend', 'TEMPERATURE_lagged','Demand_Previous', 'Demand_Lagged', 'Demand_Rolling']\n",
    "\n",
    "# Set the date threshold for training data (end of November 2020)\n",
    "training_end_date = '2020-11-30'\n",
    "\n",
    "# Split the data into training and testing sets\n",
    "train_data = data.loc[data.index <= training_end_date]\n",
    "test_data = data.loc[data.index > training_end_date]\n",
    "\n",
    "# Define training and testing features and target\n",
    "X_train = train_data[feature_columns]\n",
    "y_train = train_data[target_column]\n",
    "\n",
    "X_test = test_data[feature_columns]\n",
    "y_test = test_data[target_column]\n",
    "\n",
    "# Create an XGBoost Regressor model\n",
    "xgb_model = XGBRegressor(n_estimators=50, random_state=42)\n",
    "\n",
    "# Train the model on the training data\n",
    "xgb_model.fit(X_train, y_train)\n",
    "\n",
    "# Make predictions on the test data\n",
    "y_pred = xgb_model.predict(X_test)\n",
    "\n",
    "# Evaluate the model's performance\n",
    "mse = mean_squared_error(y_test, y_pred)\n",
    "r2 = r2_score(y_test, y_pred)\n",
    "\n",
    "print(f\"Mean Squared Error: {mse}\")\n",
    "print(f\"R-squared: {r2}\")"
   ]
  },
  {
   "cell_type": "code",
   "execution_count": null,
   "metadata": {},
   "outputs": [],
   "source": [
    "# Create a scatter plot\n",
    "plt.figure(figsize=(8, 6))\n",
    "plt.scatter(y_test, y_pred, alpha=0.5)\n",
    "plt.xlabel(\"Actual Values\")\n",
    "plt.ylabel(\"Predicted Values\")\n",
    "plt.title(\"Actual vs. Predicted Values\")\n",
    "\n",
    "# Add a diagonal line for reference (perfect predictions)\n",
    "plt.plot([min(y_test), max(y_test)], [min(y_test), max(y_test)], color='red', linestyle='--')\n",
    "\n",
    "plt.show()"
   ]
  },
  {
   "cell_type": "code",
   "execution_count": null,
   "metadata": {},
   "outputs": [],
   "source": [
    "cpi = cpi[['G1 CONSUMER PRICE INFLATION','Unnamed: 2']][10:]\n",
    "column_rename_mapping = {\n",
    "    'G1 CONSUMER PRICE INFLATION': 'DATETIME',\n",
    "    'Unnamed: 2': 'CPI',\n",
    "}\n",
    "cpi = cpi.rename(columns=column_rename_mapping).dropna().set_index('DATETIME')\n",
    "min_date = data.index.min()\n",
    "max_date = data.index.max()\n",
    "cpi = cpi[(cpi.index >= min_date) & (cpi.index <= max_date)]\n",
    "date_range = pd.date_range(start=min_date, end=max_date,freq='1H')\n",
    "cpi = cpi.reindex(date_range).fillna(method='ffill')\n",
    "lag_value = -6\n",
    "# Apply the lag to the 'TOTALDEMAND' column\n",
    "cpi['CPI_lagged'] = cpi['CPI'].shift(periods=lag_value)\n",
    "df = pd.concat([data, cpi], axis=1)\n",
    "df = df.drop('CPI', axis = 1).dropna()"
   ]
  },
  {
   "cell_type": "code",
   "execution_count": null,
   "metadata": {},
   "outputs": [],
   "source": [
    "# Define target and feature columns\n",
    "target_column = 'TOTALDEMAND'\n",
    "feature_columns = ['HourOfDay', 'DayOfWeek', 'DayOfYear', 'IsWeekend', 'TEMPERATURE_lagged','CPI_lagged','Demand_Previous','Demand_Lagged','Demand_Rolling']\n",
    "\n",
    "# Set the date threshold for training data (end of November 2020)\n",
    "training_end_date = '2020-11-30'\n",
    "\n",
    "# Split the data into training and testing sets\n",
    "train_data = df.loc[df.index <= training_end_date]\n",
    "test_data = df.loc[df.index > training_end_date]\n",
    "\n",
    "# Define training and testing features and target\n",
    "X_train = train_data[feature_columns]\n",
    "y_train = train_data[target_column]\n",
    "\n",
    "X_test = test_data[feature_columns]\n",
    "y_test = test_data[target_column]\n",
    "\n",
    "# Create an XGBoost Regressor model\n",
    "xgb_model = XGBRegressor(n_estimators=50, random_state=42)\n",
    "\n",
    "# Train the model on the training data\n",
    "xgb_model.fit(X_train, y_train)\n",
    "\n",
    "# Make predictions on the test data\n",
    "y_pred = xgb_model.predict(X_test)\n",
    "\n",
    "# Evaluate the model's performance\n",
    "mse = mean_squared_error(y_test, y_pred)\n",
    "r2 = r2_score(y_test, y_pred)\n",
    "\n",
    "print(f\"Mean Squared Error: {mse}\")\n",
    "print(f\"R-squared: {r2}\")"
   ]
  },
  {
   "cell_type": "code",
   "execution_count": null,
   "metadata": {},
   "outputs": [],
   "source": [
    "# Create a scatter plot\n",
    "plt.figure(figsize=(8, 6))\n",
    "plt.scatter(y_test, y_pred, alpha=0.5)\n",
    "plt.xlabel(\"Actual Values\")\n",
    "plt.ylabel(\"Predicted Values\")\n",
    "plt.title(\"Actual vs. Predicted Values\")\n",
    "\n",
    "# Add a diagonal line for reference (perfect predictions)\n",
    "plt.plot([min(y_test), max(y_test)], [min(y_test), max(y_test)], color='red', linestyle='--')\n",
    "\n",
    "plt.show()"
   ]
  },
  {
   "cell_type": "code",
   "execution_count": null,
   "metadata": {},
   "outputs": [],
   "source": [
    "forecast_demand_file_path = '../data/forecastdemand_nsw.csv'\n",
    "actual_demand_file_path = '../data/totaldemand_nsw.csv'\n",
    "temperature_file_path = '../data/temperature_nsw.csv'\n",
    "forecast_demand = pd.read_csv(forecast_demand_file_path)\n",
    "actual_demand = pd.read_csv(actual_demand_file_path)\n",
    "temperature = pd.read_csv(temperature_file_path)"
   ]
  },
  {
   "cell_type": "code",
   "execution_count": null,
   "metadata": {},
   "outputs": [],
   "source": [
    "Exports"
   ]
  },
  {
   "cell_type": "code",
   "execution_count": null,
   "metadata": {},
   "outputs": [],
   "source": [
    "column_rename_mapping = {\n",
    "    'Date': 'DATETIME',\n",
    "    'Exports of goods and services': 'Exports'\n",
    "}\n",
    "Exports = Exports.rename(columns=column_rename_mapping).dropna().set_index('DATETIME')\n",
    "min_date = df.index.min()\n",
    "max_date = df.index.max()\n",
    "date_range = pd.date_range(start=min_date, end=max_date,freq='1H')\n",
    "Exports.index = pd.to_datetime(Exports.index, format='%b-%Y')\n",
    "Exports = Exports[(Exports.index >= min_date) & (Exports.index <= max_date)]\n",
    "Exports = Exports.reindex(date_range).fillna(method='ffill')\n",
    "lag_value = -6\n",
    "# Apply the lag to the 'TOTALDEMAND' column\n",
    "Exports['Exports_lagged'] = Exports['Exports'].shift(periods=lag_value)\n",
    "Exports = Exports[['Exports_lagged']]"
   ]
  },
  {
   "cell_type": "code",
   "execution_count": null,
   "metadata": {},
   "outputs": [],
   "source": [
    "df = pd.concat([df, Exports], axis=1).dropna()"
   ]
  },
  {
   "cell_type": "code",
   "execution_count": null,
   "metadata": {},
   "outputs": [],
   "source": [
    "GDP"
   ]
  },
  {
   "cell_type": "code",
   "execution_count": null,
   "metadata": {},
   "outputs": [],
   "source": [
    "column_rename_mapping = {\n",
    "    'Date': 'DATETIME',\n",
    "    'Real GDP': 'GDP'\n",
    "}\n",
    "GDP = GDP.rename(columns=column_rename_mapping).dropna().set_index('DATETIME')\n",
    "min_date = df.index.min()\n",
    "max_date = df.index.max()\n",
    "date_range = pd.date_range(start=min_date, end=max_date,freq='1H')\n",
    "GDP.index = pd.to_datetime(GDP.index, format='%b-%Y')\n",
    "GDP = GDP[(GDP.index >= min_date) & (GDP.index <= max_date)]\n",
    "GDP = GDP.reindex(date_range).fillna(method='ffill')\n",
    "lag_value = -6\n",
    "# Apply the lag to the 'TOTALDEMAND' column\n",
    "GDP['GDP_lagged'] = GDP['GDP'].shift(periods=lag_value)\n",
    "GDP = GDP[['GDP_lagged']]"
   ]
  },
  {
   "cell_type": "code",
   "execution_count": null,
   "metadata": {},
   "outputs": [],
   "source": [
    "df = pd.concat([df, GDP], axis=1)#.dropna()"
   ]
  },
  {
   "cell_type": "code",
   "execution_count": null,
   "metadata": {},
   "outputs": [],
   "source": [
    "Interest"
   ]
  },
  {
   "cell_type": "code",
   "execution_count": null,
   "metadata": {},
   "outputs": [],
   "source": [
    "column_rename_mapping = {\n",
    "    'Date': 'DATETIME',\n",
    "    'Cash Rate Target': 'Interest'\n",
    "}\n",
    "Interest = Interest.rename(columns=column_rename_mapping).dropna().set_index('DATETIME')\n",
    "min_date = df.index.min()\n",
    "max_date = df.index.max()\n",
    "date_range = pd.date_range(start=min_date, end=max_date,freq='1H')\n",
    "Interest.index = pd.to_datetime(Interest.index)\n",
    "Interest = Interest[(Interest.index >= min_date) & (Interest.index <= max_date)]\n",
    "Interest = Interest.reindex(date_range).fillna(method='ffill')\n",
    "lag_value = -6\n",
    "# Apply the lag to the 'TOTALDEMAND' column\n",
    "Interest['Interest_lagged'] = Interest['Interest'].shift(periods=lag_value)\n",
    "Interest = Interest[['Interest_lagged']]"
   ]
  },
  {
   "cell_type": "code",
   "execution_count": null,
   "metadata": {},
   "outputs": [],
   "source": [
    "df = pd.concat([df, Interest], axis=1)"
   ]
  },
  {
   "cell_type": "code",
   "execution_count": null,
   "metadata": {},
   "outputs": [],
   "source": [
    "SolarInstall"
   ]
  },
  {
   "cell_type": "code",
   "execution_count": null,
   "metadata": {},
   "outputs": [],
   "source": [
    "column_rename_mapping = {\n",
    "    \"'Month'\": 'DATETIME',\n",
    "    'Cumulative Residential': 'Residential',\n",
    "    'Cumulative Commercial': 'Commercial'\n",
    "}\n",
    "SolarInstall = SolarInstall.rename(columns=column_rename_mapping).dropna().set_index('DATETIME')\n",
    "min_date = df.index.min()\n",
    "max_date = df.index.max()\n",
    "date_range = pd.date_range(start=min_date, end=max_date,freq='1H')\n",
    "SolarInstall.index = pd.to_datetime(SolarInstall.index)\n",
    "SolarInstall = SolarInstall[(SolarInstall.index >= min_date) & (SolarInstall.index <= max_date)]\n",
    "SolarInstall = SolarInstall.reindex(date_range).fillna(method='ffill')\n",
    "lag_value = -6\n",
    "# SolarInstall the lag to the 'TOTALDEMAND' column\n",
    "SolarInstall['Residential_lagged'] = SolarInstall['Residential'].shift(periods=lag_value)\n",
    "SolarInstall['Commercial_lagged'] = SolarInstall['Commercial'].shift(periods=lag_value)\n",
    "SolarInstall = SolarInstall[['Residential_lagged','Commercial_lagged']]"
   ]
  },
  {
   "cell_type": "code",
   "execution_count": null,
   "metadata": {},
   "outputs": [],
   "source": [
    "df = pd.concat([df, SolarInstall], axis=1)"
   ]
  },
  {
   "cell_type": "code",
   "execution_count": null,
   "metadata": {},
   "outputs": [],
   "source": [
    "SolarOutput"
   ]
  },
  {
   "cell_type": "code",
   "execution_count": null,
   "metadata": {},
   "outputs": [],
   "source": [
    "column_rename_mapping = {\n",
    "    \"Date\": 'DATETIME',\n",
    "    'Output NSW': 'SolarOutput'\n",
    "}\n",
    "SolarOutput = SolarOutput.rename(columns=column_rename_mapping).dropna().set_index('DATETIME')\n",
    "min_date = df.index.min()\n",
    "max_date = df.index.max()\n",
    "date_range = pd.date_range(start=min_date, end=max_date,freq='1H')\n",
    "SolarOutput.index = pd.to_datetime(SolarOutput.index)\n",
    "SolarOutput = SolarOutput[(SolarOutput.index >= min_date) & (SolarOutput.index <= max_date)]\n",
    "SolarOutput = SolarOutput.reindex(date_range).fillna(method='ffill')\n",
    "lag_value = -6\n",
    "# SolarInstall the lag to the 'TOTALDEMAND' column\n",
    "SolarOutput['SolarOutput_lagged'] = SolarOutput['SolarOutput'].shift(periods=lag_value)\n",
    "SolarOutput = SolarOutput[['SolarOutput_lagged']]"
   ]
  },
  {
   "cell_type": "code",
   "execution_count": null,
   "metadata": {},
   "outputs": [],
   "source": [
    "df = pd.concat([df, SolarOutput], axis=1)"
   ]
  },
  {
   "cell_type": "code",
   "execution_count": null,
   "metadata": {},
   "outputs": [],
   "source": [
    "Unemployment"
   ]
  },
  {
   "cell_type": "code",
   "execution_count": null,
   "metadata": {},
   "outputs": [],
   "source": [
    "column_rename_mapping = {\n",
    "    \"Date\": 'DATETIME',\n",
    "    'Unemployment rate': 'Unemployment'\n",
    "}\n",
    "Unemployment = Unemployment.rename(columns=column_rename_mapping).dropna().set_index('DATETIME')\n",
    "min_date = df.index.min()\n",
    "max_date = df.index.max()\n",
    "date_range = pd.date_range(start=min_date, end=max_date,freq='1H')\n",
    "Unemployment.index = pd.to_datetime(Unemployment.index, format='%b-%Y')\n",
    "Unemployment = Unemployment[(Unemployment.index >= min_date) & (Unemployment.index <= max_date)]\n",
    "Unemployment = Unemployment.reindex(date_range).fillna(method='ffill')\n",
    "lag_value = -6\n",
    "# SolarInstall the lag to the 'TOTALDEMAND' column\n",
    "Unemployment['Unemployment_lagged'] = Unemployment['Unemployment'].shift(periods=lag_value)\n",
    "Unemployment = Unemployment[['Unemployment_lagged']]"
   ]
  },
  {
   "cell_type": "code",
   "execution_count": null,
   "metadata": {},
   "outputs": [],
   "source": [
    "df = pd.concat([df, Unemployment], axis=1)"
   ]
  },
  {
   "cell_type": "code",
   "execution_count": null,
   "metadata": {},
   "outputs": [],
   "source": [
    "Wholesale"
   ]
  },
  {
   "cell_type": "code",
   "execution_count": null,
   "metadata": {},
   "outputs": [],
   "source": [
    "column_rename_mapping = {\n",
    "    \"SETTLEMENTDATE\": 'DATETIME',\n",
    "    'RRP': 'Price'\n",
    "}\n",
    "Wholesale = Wholesale.rename(columns=column_rename_mapping).dropna().set_index('DATETIME')\n",
    "min_date = df.index.min()\n",
    "max_date = df.index.max()\n",
    "date_range = pd.date_range(start=min_date, end=max_date,freq='1H')\n",
    "Wholesale.index = pd.to_datetime(Wholesale.index, format='%Y/%m/%d %H:%M:%S')\n",
    "Wholesale = Wholesale[(Wholesale.index >= min_date) & (Wholesale.index <= max_date)]\n",
    "Wholesale = Wholesale.reindex(date_range).fillna(method='ffill')\n",
    "lag_value = -6\n",
    "# SolarInstall the lag to the 'TOTALDEMAND' column\n",
    "Wholesale['Price_lagged'] = Wholesale['Price'].shift(periods=lag_value)\n",
    "Wholesale = Wholesale[['Price_lagged']]"
   ]
  },
  {
   "cell_type": "code",
   "execution_count": null,
   "metadata": {},
   "outputs": [],
   "source": [
    "df = pd.concat([df, Wholesale], axis=1)"
   ]
  },
  {
   "cell_type": "code",
   "execution_count": null,
   "metadata": {},
   "outputs": [],
   "source": [
    "Comm"
   ]
  },
  {
   "cell_type": "code",
   "execution_count": null,
   "metadata": {},
   "outputs": [],
   "source": [
    "Weather"
   ]
  },
  {
   "cell_type": "code",
   "execution_count": null,
   "metadata": {},
   "outputs": [],
   "source": [
    "Rainfall"
   ]
  },
  {
   "cell_type": "code",
   "execution_count": null,
   "metadata": {},
   "outputs": [],
   "source": [
    "not_norm_column = ['HourOfDay', 'DayOfWeek', 'DayOfYear','IsWeekend', 'TOTALDEMAND','Demand_Lagged','Demand_Previous','Demand_Rolling']\n",
    "keys = list(df.keys())\n",
    "norm_columns = [x for x in keys if x not in not_norm_column]"
   ]
  },
  {
   "cell_type": "code",
   "execution_count": null,
   "metadata": {},
   "outputs": [],
   "source": [
    "# Define target and feature columns\n",
    "target_column = 'TOTALDEMAND'\n",
    "keys = list(df.keys())\n",
    "feature_columns = [x for x in keys if x != target_column]\n",
    "\n",
    "not_norm_column = ['HourOfDay', 'DayOfWeek', 'DayOfYear','IsWeekend', 'TOTALDEMAND','Demand_Lagged','Demand_Previous','Demand_Rolling']\n",
    "keys = list(df.keys())\n",
    "norm_columns = [x for x in keys if x not in not_norm_column]\n",
    "\n",
    "# feature_columns = ['HourOfDay', 'DayOfWeek', 'DayOfYear', 'TEMPERATURE_lagged','CPI_lagged']\n",
    "df = df.dropna()\n",
    "# Set the date threshold for training data (end of November 2020)\n",
    "training_end_date = '2020-11-30'\n",
    "\n",
    "# Split the data into training and testing sets\n",
    "train_data = df.loc[df.index <= training_end_date].copy()\n",
    "test_data = df.loc[df.index > training_end_date].copy()\n",
    "\n",
    "scaler = StandardScaler()\n",
    "train_data.loc[:, norm_columns] = scaler.fit_transform(train_data.loc[:, norm_columns])\n",
    "test_data.loc[:, norm_columns] = scaler.transform(test_data.loc[:, norm_columns])\n",
    "\n",
    "# Define training and testing features and target\n",
    "X_train = train_data.loc[:, feature_columns]\n",
    "y_train = train_data.loc[:, target_column]\n",
    "\n",
    "X_test = test_data.loc[:, feature_columns]\n",
    "y_test = test_data.loc[:, target_column]\n",
    "\n",
    "# Create an XGBoost Regressor model\n",
    "xgb_model = XGBRegressor(n_estimators=200, random_state=42)\n",
    "\n",
    "# Train the model on the training data\n",
    "xgb_model.fit(X_train, y_train)\n",
    "\n",
    "# Make predictions on the test data\n",
    "y_pred = xgb_model.predict(X_test)\n",
    "\n",
    "# Evaluate the model's performance\n",
    "mse = mean_squared_error(y_test, y_pred)\n",
    "r2 = r2_score(y_test, y_pred)\n",
    "\n",
    "print(f\"Mean Squared Error: {mse}\")\n",
    "print(f\"R-squared: {r2}\")"
   ]
  },
  {
   "cell_type": "code",
   "execution_count": null,
   "metadata": {},
   "outputs": [],
   "source": [
    "# Create a scatter plot\n",
    "plt.figure(figsize=(8, 6))\n",
    "plt.scatter(y_test, y_pred, alpha=0.5)\n",
    "plt.xlabel(\"Actual Values\")\n",
    "plt.ylabel(\"Predicted Values\")\n",
    "plt.title(\"Actual vs. Predicted Values\")\n",
    "\n",
    "# Add a diagonal line for reference (perfect predictions)\n",
    "plt.plot([min(y_test), max(y_test)], [min(y_test), max(y_test)], color='red', linestyle='--')\n",
    "\n",
    "plt.show()"
   ]
  },
  {
   "cell_type": "code",
   "execution_count": null,
   "metadata": {},
   "outputs": [],
   "source": [
    "# target_column = 'DIFF'\n",
    "# keys = list(df.keys())\n",
    "# feature_columns = [x for x in keys if x != target_column]\n",
    "\n",
    "# not_norm_column = ['HourOfDay', 'DayOfWeek', 'DayOfYear', 'TOTALDEMAND']\n",
    "# keys = list(df.keys())\n",
    "# norm_columns = [x for x in keys if x not in not_norm_column]\n",
    "\n",
    "# # feature_columns = ['HourOfDay', 'DayOfWeek', 'DayOfYear', 'TEMPERATURE_lagged','CPI_lagged']\n",
    "# df = df.dropna()\n",
    "# # Set the date threshold for training data (end of November 2020)\n",
    "# training_end_date = '2020-11-30'\n",
    "\n",
    "# train_data = df.loc[df.index <= training_end_date].copy()\n",
    "# test_data = df.loc[df.index > training_end_date].copy()\n",
    "\n",
    "# # Create a StandardScaler instance and normalize the data\n",
    "# scaler = StandardScaler()\n",
    "# train_data.loc[:, feature_columns] = scaler.fit_transform(train_data.loc[:, feature_columns])\n",
    "# test_data.loc[:, feature_columns] = scaler.transform(test_data.loc[:, feature_columns])\n",
    "\n",
    "# # Initialize variables to keep track of the best combination and R² value\n",
    "# best_combination = []\n",
    "# best_r2 = -float('inf')\n",
    "\n",
    "# # Iterate through all possible feature combinations\n",
    "# for r in range(1, len(feature_columns) + 1):\n",
    "#     for combination in combinations(feature_columns, r):\n",
    "#         # Convert the combination to a list\n",
    "#         feature_subset = list(combination)\n",
    "\n",
    "#         # Define training and testing features and target for the subset\n",
    "#         X_train_subset = train_data.loc[:, feature_subset]\n",
    "#         y_train_subset = train_data.loc[:, target_column]\n",
    "#         X_test_subset = test_data.loc[:, feature_subset]\n",
    "#         y_test_subset = test_data.loc[:, target_column]\n",
    "\n",
    "#         # Create an XGBoost Regressor model\n",
    "#         xgb_model = XGBRegressor(n_estimators=75, random_state=42)\n",
    "\n",
    "#         # Fit the model on the training data\n",
    "#         xgb_model.fit(X_train_subset, y_train_subset)\n",
    "\n",
    "#         # Make predictions on the test data\n",
    "#         y_pred = xgb_model.predict(X_test_subset)\n",
    "\n",
    "#         # Calculate R² value for this combination\n",
    "#         r2 = r2_score(y_test_subset, y_pred)\n",
    "\n",
    "#         # Update the best combination and R² value if necessary\n",
    "#         if r2 > best_r2:\n",
    "#             best_combination = feature_subset\n",
    "#             best_r2 = r2\n",
    "\n",
    "# # Print the best feature combination and its R² value\n",
    "# print(f\"Best Feature Combination: {best_combination}\")\n",
    "# print(f\"Best R-squared (R²) Value: {best_r2}\")"
   ]
  },
  {
   "cell_type": "code",
   "execution_count": null,
   "metadata": {},
   "outputs": [],
   "source": [
    "# # Create a scatter plot\n",
    "# plt.figure(figsize=(8, 6))\n",
    "# plt.scatter(y_test, y_pred, alpha=0.5)\n",
    "# plt.xlabel(\"Actual Values\")\n",
    "# plt.ylabel(\"Predicted Values\")\n",
    "# plt.title(\"Actual vs. Predicted Values\")\n",
    "\n",
    "# # Add a diagonal line for reference (perfect predictions)\n",
    "# plt.plot([min(y_test), max(y_test)], [min(y_test), max(y_test)], color='red', linestyle='--')\n",
    "\n",
    "# plt.show()"
   ]
  }
 ],
 "metadata": {
  "kernelspec": {
   "display_name": "Python 3",
   "language": "python",
   "name": "python3"
  },
  "language_info": {
   "codemirror_mode": {
    "name": "ipython",
    "version": 3
   },
   "file_extension": ".py",
   "mimetype": "text/x-python",
   "name": "python",
   "nbconvert_exporter": "python",
   "pygments_lexer": "ipython3",
   "version": "3.7.4"
  }
 },
 "nbformat": 4,
 "nbformat_minor": 2
}
