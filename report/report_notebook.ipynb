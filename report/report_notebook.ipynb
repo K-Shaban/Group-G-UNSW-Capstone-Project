{
 "cells": [
  {
   "cell_type": "code",
   "execution_count": 1,
   "metadata": {},
   "outputs": [],
   "source": [
    "import pandas as pd\n",
    "import numpy as np\n",
    "from scipy import stats\n",
    "import matplotlib.pyplot as plt\n",
    "import glob\n",
    "import os"
   ]
  },
  {
   "cell_type": "code",
   "execution_count": 2,
   "metadata": {},
   "outputs": [],
   "source": [
    "forecast_demand_file_path = '../data/forecastdemand_nsw.csv'\n",
    "actual_demand_file_path = '../data/totaldemand_nsw.csv'\n",
    "temperature_file_path = '../data/temperature_nsw.csv'\n",
    "forecast_demand = pd.read_csv(forecast_demand_file_path)\n",
    "actual_demand = pd.read_csv(actual_demand_file_path)\n",
    "temperature = pd.read_csv(temperature_file_path)\n"
   ]
  },
  {
   "cell_type": "code",
   "execution_count": 3,
   "metadata": {},
   "outputs": [
    {
     "data": {
      "text/html": [
       "<div>\n",
       "<style scoped>\n",
       "    .dataframe tbody tr th:only-of-type {\n",
       "        vertical-align: middle;\n",
       "    }\n",
       "\n",
       "    .dataframe tbody tr th {\n",
       "        vertical-align: top;\n",
       "    }\n",
       "\n",
       "    .dataframe thead th {\n",
       "        text-align: right;\n",
       "    }\n",
       "</style>\n",
       "<table border=\"1\" class=\"dataframe\">\n",
       "  <thead>\n",
       "    <tr style=\"text-align: right;\">\n",
       "      <th></th>\n",
       "      <th>DATETIME</th>\n",
       "      <th>REGIONID</th>\n",
       "      <th>FORECASTDEMAND</th>\n",
       "      <th>PREDISPATCHSEQNO</th>\n",
       "      <th>PERIODID</th>\n",
       "      <th>LASTCHANGED</th>\n",
       "    </tr>\n",
       "  </thead>\n",
       "  <tbody>\n",
       "    <tr>\n",
       "      <td>0</td>\n",
       "      <td>2010-01-01 00:00:00</td>\n",
       "      <td>NSW1</td>\n",
       "      <td>7832.04</td>\n",
       "      <td>2009123018</td>\n",
       "      <td>71</td>\n",
       "      <td>2009-12-30 12:31:49</td>\n",
       "    </tr>\n",
       "    <tr>\n",
       "      <td>1</td>\n",
       "      <td>2010-01-01 00:00:00</td>\n",
       "      <td>NSW1</td>\n",
       "      <td>7832.04</td>\n",
       "      <td>2009123019</td>\n",
       "      <td>70</td>\n",
       "      <td>2009-12-30 13:01:43</td>\n",
       "    </tr>\n",
       "    <tr>\n",
       "      <td>2</td>\n",
       "      <td>2010-01-01 00:00:00</td>\n",
       "      <td>NSW1</td>\n",
       "      <td>7832.03</td>\n",
       "      <td>2009123020</td>\n",
       "      <td>69</td>\n",
       "      <td>2009-12-30 13:31:36</td>\n",
       "    </tr>\n",
       "    <tr>\n",
       "      <td>3</td>\n",
       "      <td>2010-01-01 00:00:00</td>\n",
       "      <td>NSW1</td>\n",
       "      <td>7832.03</td>\n",
       "      <td>2009123021</td>\n",
       "      <td>68</td>\n",
       "      <td>2009-12-30 14:01:44</td>\n",
       "    </tr>\n",
       "    <tr>\n",
       "      <td>4</td>\n",
       "      <td>2010-01-01 00:00:00</td>\n",
       "      <td>NSW1</td>\n",
       "      <td>7830.96</td>\n",
       "      <td>2009123022</td>\n",
       "      <td>67</td>\n",
       "      <td>2009-12-30 14:31:35</td>\n",
       "    </tr>\n",
       "  </tbody>\n",
       "</table>\n",
       "</div>"
      ],
      "text/plain": [
       "              DATETIME REGIONID  FORECASTDEMAND  PREDISPATCHSEQNO  PERIODID  \\\n",
       "0  2010-01-01 00:00:00     NSW1         7832.04        2009123018        71   \n",
       "1  2010-01-01 00:00:00     NSW1         7832.04        2009123019        70   \n",
       "2  2010-01-01 00:00:00     NSW1         7832.03        2009123020        69   \n",
       "3  2010-01-01 00:00:00     NSW1         7832.03        2009123021        68   \n",
       "4  2010-01-01 00:00:00     NSW1         7830.96        2009123022        67   \n",
       "\n",
       "           LASTCHANGED  \n",
       "0  2009-12-30 12:31:49  \n",
       "1  2009-12-30 13:01:43  \n",
       "2  2009-12-30 13:31:36  \n",
       "3  2009-12-30 14:01:44  \n",
       "4  2009-12-30 14:31:35  "
      ]
     },
     "execution_count": 3,
     "metadata": {},
     "output_type": "execute_result"
    }
   ],
   "source": [
    "forecast_demand.head()"
   ]
  },
  {
   "cell_type": "code",
   "execution_count": 4,
   "metadata": {},
   "outputs": [
    {
     "data": {
      "text/html": [
       "<div>\n",
       "<style scoped>\n",
       "    .dataframe tbody tr th:only-of-type {\n",
       "        vertical-align: middle;\n",
       "    }\n",
       "\n",
       "    .dataframe tbody tr th {\n",
       "        vertical-align: top;\n",
       "    }\n",
       "\n",
       "    .dataframe thead th {\n",
       "        text-align: right;\n",
       "    }\n",
       "</style>\n",
       "<table border=\"1\" class=\"dataframe\">\n",
       "  <thead>\n",
       "    <tr style=\"text-align: right;\">\n",
       "      <th></th>\n",
       "      <th>DATETIME</th>\n",
       "      <th>REGIONID</th>\n",
       "      <th>TOTALDEMAND</th>\n",
       "    </tr>\n",
       "  </thead>\n",
       "  <tbody>\n",
       "    <tr>\n",
       "      <td>1323393</td>\n",
       "      <td>2022-07-31 23:40:00</td>\n",
       "      <td>NSW1</td>\n",
       "      <td>8180.34</td>\n",
       "    </tr>\n",
       "    <tr>\n",
       "      <td>1323394</td>\n",
       "      <td>2022-07-31 23:45:00</td>\n",
       "      <td>NSW1</td>\n",
       "      <td>8237.50</td>\n",
       "    </tr>\n",
       "    <tr>\n",
       "      <td>1323395</td>\n",
       "      <td>2022-07-31 23:50:00</td>\n",
       "      <td>NSW1</td>\n",
       "      <td>8109.83</td>\n",
       "    </tr>\n",
       "    <tr>\n",
       "      <td>1323396</td>\n",
       "      <td>2022-07-31 23:55:00</td>\n",
       "      <td>NSW1</td>\n",
       "      <td>8044.52</td>\n",
       "    </tr>\n",
       "    <tr>\n",
       "      <td>1323397</td>\n",
       "      <td>2022-08-01 00:00:00</td>\n",
       "      <td>NSW1</td>\n",
       "      <td>8027.28</td>\n",
       "    </tr>\n",
       "  </tbody>\n",
       "</table>\n",
       "</div>"
      ],
      "text/plain": [
       "                    DATETIME REGIONID  TOTALDEMAND\n",
       "1323393  2022-07-31 23:40:00     NSW1      8180.34\n",
       "1323394  2022-07-31 23:45:00     NSW1      8237.50\n",
       "1323395  2022-07-31 23:50:00     NSW1      8109.83\n",
       "1323396  2022-07-31 23:55:00     NSW1      8044.52\n",
       "1323397  2022-08-01 00:00:00     NSW1      8027.28"
      ]
     },
     "execution_count": 4,
     "metadata": {},
     "output_type": "execute_result"
    }
   ],
   "source": [
    "actual_demand.head()\n",
    "actual_demand.tail()"
   ]
  },
  {
   "cell_type": "code",
   "execution_count": 5,
   "metadata": {},
   "outputs": [
    {
     "data": {
      "text/plain": [
       "DATETIME       2010-01-01 00:00:00\n",
       "LOCATION                     94766\n",
       "TEMPERATURE                   -1.3\n",
       "dtype: object"
      ]
     },
     "execution_count": 5,
     "metadata": {},
     "output_type": "execute_result"
    }
   ],
   "source": [
    "temperature.head()\n",
    "temperature.tail()\n",
    "temperature.loc[temperature['TEMPERATURE'] <= -5, 'TEMPERATURE'] = np.nan\n",
    "temperature.min()"
   ]
  },
  {
   "cell_type": "code",
   "execution_count": 6,
   "metadata": {},
   "outputs": [],
   "source": [
    "path = '../data/nswdemand2022onwards'\n",
    "all_files = glob.glob(os.path.join(path, \"*.csv\"))\n",
    "\n",
    "total_demand_2022onwards = pd.concat((pd.read_csv(f) for f in all_files), ignore_index=True)"
   ]
  },
  {
   "cell_type": "code",
   "execution_count": 7,
   "metadata": {},
   "outputs": [
    {
     "data": {
      "text/html": [
       "<div>\n",
       "<style scoped>\n",
       "    .dataframe tbody tr th:only-of-type {\n",
       "        vertical-align: middle;\n",
       "    }\n",
       "\n",
       "    .dataframe tbody tr th {\n",
       "        vertical-align: top;\n",
       "    }\n",
       "\n",
       "    .dataframe thead th {\n",
       "        text-align: right;\n",
       "    }\n",
       "</style>\n",
       "<table border=\"1\" class=\"dataframe\">\n",
       "  <thead>\n",
       "    <tr style=\"text-align: right;\">\n",
       "      <th></th>\n",
       "      <th>REGION</th>\n",
       "      <th>SETTLEMENTDATE</th>\n",
       "      <th>TOTALDEMAND</th>\n",
       "      <th>RRP</th>\n",
       "      <th>PERIODTYPE</th>\n",
       "    </tr>\n",
       "  </thead>\n",
       "  <tbody>\n",
       "    <tr>\n",
       "      <td>0</td>\n",
       "      <td>NSW1</td>\n",
       "      <td>2022/01/01 00:05:00</td>\n",
       "      <td>7206.03</td>\n",
       "      <td>124.86</td>\n",
       "      <td>TRADE</td>\n",
       "    </tr>\n",
       "    <tr>\n",
       "      <td>1</td>\n",
       "      <td>NSW1</td>\n",
       "      <td>2022/01/01 00:10:00</td>\n",
       "      <td>7174.26</td>\n",
       "      <td>126.02</td>\n",
       "      <td>TRADE</td>\n",
       "    </tr>\n",
       "    <tr>\n",
       "      <td>2</td>\n",
       "      <td>NSW1</td>\n",
       "      <td>2022/01/01 00:15:00</td>\n",
       "      <td>7135.00</td>\n",
       "      <td>124.93</td>\n",
       "      <td>TRADE</td>\n",
       "    </tr>\n",
       "    <tr>\n",
       "      <td>3</td>\n",
       "      <td>NSW1</td>\n",
       "      <td>2022/01/01 00:20:00</td>\n",
       "      <td>7065.84</td>\n",
       "      <td>113.54</td>\n",
       "      <td>TRADE</td>\n",
       "    </tr>\n",
       "    <tr>\n",
       "      <td>4</td>\n",
       "      <td>NSW1</td>\n",
       "      <td>2022/01/01 00:25:00</td>\n",
       "      <td>6995.08</td>\n",
       "      <td>123.12</td>\n",
       "      <td>TRADE</td>\n",
       "    </tr>\n",
       "  </tbody>\n",
       "</table>\n",
       "</div>"
      ],
      "text/plain": [
       "  REGION       SETTLEMENTDATE  TOTALDEMAND     RRP PERIODTYPE\n",
       "0   NSW1  2022/01/01 00:05:00      7206.03  124.86      TRADE\n",
       "1   NSW1  2022/01/01 00:10:00      7174.26  126.02      TRADE\n",
       "2   NSW1  2022/01/01 00:15:00      7135.00  124.93      TRADE\n",
       "3   NSW1  2022/01/01 00:20:00      7065.84  113.54      TRADE\n",
       "4   NSW1  2022/01/01 00:25:00      6995.08  123.12      TRADE"
      ]
     },
     "execution_count": 7,
     "metadata": {},
     "output_type": "execute_result"
    }
   ],
   "source": [
    "total_demand_2022onwards.head()"
   ]
  },
  {
   "cell_type": "code",
   "execution_count": 8,
   "metadata": {},
   "outputs": [
    {
     "data": {
      "text/html": [
       "<div>\n",
       "<style scoped>\n",
       "    .dataframe tbody tr th:only-of-type {\n",
       "        vertical-align: middle;\n",
       "    }\n",
       "\n",
       "    .dataframe tbody tr th {\n",
       "        vertical-align: top;\n",
       "    }\n",
       "\n",
       "    .dataframe thead th {\n",
       "        text-align: right;\n",
       "    }\n",
       "</style>\n",
       "<table border=\"1\" class=\"dataframe\">\n",
       "  <thead>\n",
       "    <tr style=\"text-align: right;\">\n",
       "      <th></th>\n",
       "      <th>Date Time</th>\n",
       "      <th>Total Demand</th>\n",
       "    </tr>\n",
       "  </thead>\n",
       "  <tbody>\n",
       "    <tr>\n",
       "      <td>0</td>\n",
       "      <td>2010-01-01 00:00:00</td>\n",
       "      <td>7997.41</td>\n",
       "    </tr>\n",
       "    <tr>\n",
       "      <td>1</td>\n",
       "      <td>2010-01-01 00:05:00</td>\n",
       "      <td>7946.51</td>\n",
       "    </tr>\n",
       "    <tr>\n",
       "      <td>2</td>\n",
       "      <td>2010-01-01 00:10:00</td>\n",
       "      <td>7921.55</td>\n",
       "    </tr>\n",
       "    <tr>\n",
       "      <td>3</td>\n",
       "      <td>2010-01-01 00:15:00</td>\n",
       "      <td>7837.84</td>\n",
       "    </tr>\n",
       "    <tr>\n",
       "      <td>4</td>\n",
       "      <td>2010-01-01 00:20:00</td>\n",
       "      <td>7781.11</td>\n",
       "    </tr>\n",
       "  </tbody>\n",
       "</table>\n",
       "</div>"
      ],
      "text/plain": [
       "             Date Time  Total Demand\n",
       "0  2010-01-01 00:00:00       7997.41\n",
       "1  2010-01-01 00:05:00       7946.51\n",
       "2  2010-01-01 00:10:00       7921.55\n",
       "3  2010-01-01 00:15:00       7837.84\n",
       "4  2010-01-01 00:20:00       7781.11"
      ]
     },
     "execution_count": 8,
     "metadata": {},
     "output_type": "execute_result"
    }
   ],
   "source": [
    "df = pd.DataFrame({'Date Time': actual_demand['DATETIME'], 'Total Demand': actual_demand['TOTALDEMAND']})\n",
    "df.head()"
   ]
  },
  {
   "cell_type": "code",
   "execution_count": 9,
   "metadata": {},
   "outputs": [
    {
     "data": {
      "text/html": [
       "<div>\n",
       "<style scoped>\n",
       "    .dataframe tbody tr th:only-of-type {\n",
       "        vertical-align: middle;\n",
       "    }\n",
       "\n",
       "    .dataframe tbody tr th {\n",
       "        vertical-align: top;\n",
       "    }\n",
       "\n",
       "    .dataframe thead th {\n",
       "        text-align: right;\n",
       "    }\n",
       "</style>\n",
       "<table border=\"1\" class=\"dataframe\">\n",
       "  <thead>\n",
       "    <tr style=\"text-align: right;\">\n",
       "      <th></th>\n",
       "      <th>Date Time</th>\n",
       "      <th>Total Demand</th>\n",
       "      <th>TEMPERATURE</th>\n",
       "    </tr>\n",
       "  </thead>\n",
       "  <tbody>\n",
       "    <tr>\n",
       "      <td>0</td>\n",
       "      <td>2010-01-01 00:00:00</td>\n",
       "      <td>7997.41</td>\n",
       "      <td>23.1</td>\n",
       "    </tr>\n",
       "    <tr>\n",
       "      <td>1</td>\n",
       "      <td>2010-01-01 00:05:00</td>\n",
       "      <td>7946.51</td>\n",
       "      <td>NaN</td>\n",
       "    </tr>\n",
       "    <tr>\n",
       "      <td>2</td>\n",
       "      <td>2010-01-01 00:10:00</td>\n",
       "      <td>7921.55</td>\n",
       "      <td>NaN</td>\n",
       "    </tr>\n",
       "    <tr>\n",
       "      <td>3</td>\n",
       "      <td>2010-01-01 00:15:00</td>\n",
       "      <td>7837.84</td>\n",
       "      <td>NaN</td>\n",
       "    </tr>\n",
       "    <tr>\n",
       "      <td>4</td>\n",
       "      <td>2010-01-01 00:20:00</td>\n",
       "      <td>7781.11</td>\n",
       "      <td>NaN</td>\n",
       "    </tr>\n",
       "    <tr>\n",
       "      <td>5</td>\n",
       "      <td>2010-01-01 00:25:00</td>\n",
       "      <td>7685.53</td>\n",
       "      <td>NaN</td>\n",
       "    </tr>\n",
       "    <tr>\n",
       "      <td>6</td>\n",
       "      <td>2010-01-01 00:30:00</td>\n",
       "      <td>7683.34</td>\n",
       "      <td>22.9</td>\n",
       "    </tr>\n",
       "    <tr>\n",
       "      <td>7</td>\n",
       "      <td>2010-01-01 00:35:00</td>\n",
       "      <td>7624.60</td>\n",
       "      <td>NaN</td>\n",
       "    </tr>\n",
       "    <tr>\n",
       "      <td>8</td>\n",
       "      <td>2010-01-01 00:40:00</td>\n",
       "      <td>7606.74</td>\n",
       "      <td>NaN</td>\n",
       "    </tr>\n",
       "    <tr>\n",
       "      <td>9</td>\n",
       "      <td>2010-01-01 00:45:00</td>\n",
       "      <td>7555.47</td>\n",
       "      <td>NaN</td>\n",
       "    </tr>\n",
       "    <tr>\n",
       "      <td>10</td>\n",
       "      <td>2010-01-01 00:50:00</td>\n",
       "      <td>7497.55</td>\n",
       "      <td>22.7</td>\n",
       "    </tr>\n",
       "    <tr>\n",
       "      <td>11</td>\n",
       "      <td>2010-01-01 00:55:00</td>\n",
       "      <td>7347.68</td>\n",
       "      <td>NaN</td>\n",
       "    </tr>\n",
       "    <tr>\n",
       "      <td>12</td>\n",
       "      <td>2010-01-01 01:00:00</td>\n",
       "      <td>7270.08</td>\n",
       "      <td>22.6</td>\n",
       "    </tr>\n",
       "    <tr>\n",
       "      <td>13</td>\n",
       "      <td>2010-01-01 01:05:00</td>\n",
       "      <td>7197.55</td>\n",
       "      <td>NaN</td>\n",
       "    </tr>\n",
       "    <tr>\n",
       "      <td>14</td>\n",
       "      <td>2010-01-01 01:10:00</td>\n",
       "      <td>7208.13</td>\n",
       "      <td>NaN</td>\n",
       "    </tr>\n",
       "  </tbody>\n",
       "</table>\n",
       "</div>"
      ],
      "text/plain": [
       "              Date Time  Total Demand  TEMPERATURE\n",
       "0   2010-01-01 00:00:00       7997.41         23.1\n",
       "1   2010-01-01 00:05:00       7946.51          NaN\n",
       "2   2010-01-01 00:10:00       7921.55          NaN\n",
       "3   2010-01-01 00:15:00       7837.84          NaN\n",
       "4   2010-01-01 00:20:00       7781.11          NaN\n",
       "5   2010-01-01 00:25:00       7685.53          NaN\n",
       "6   2010-01-01 00:30:00       7683.34         22.9\n",
       "7   2010-01-01 00:35:00       7624.60          NaN\n",
       "8   2010-01-01 00:40:00       7606.74          NaN\n",
       "9   2010-01-01 00:45:00       7555.47          NaN\n",
       "10  2010-01-01 00:50:00       7497.55         22.7\n",
       "11  2010-01-01 00:55:00       7347.68          NaN\n",
       "12  2010-01-01 01:00:00       7270.08         22.6\n",
       "13  2010-01-01 01:05:00       7197.55          NaN\n",
       "14  2010-01-01 01:10:00       7208.13          NaN"
      ]
     },
     "execution_count": 9,
     "metadata": {},
     "output_type": "execute_result"
    }
   ],
   "source": [
    "df = pd.merge(df,temperature,left_on=['Date Time'], right_on=['DATETIME'], how = 'left')\n",
    "df=df.drop(columns=['DATETIME', 'LOCATION'])\n",
    "df.head(15)"
   ]
  },
  {
   "cell_type": "code",
   "execution_count": 10,
   "metadata": {},
   "outputs": [
    {
     "data": {
      "text/plain": [
       "Date Time        object\n",
       "Total Demand    float64\n",
       "TEMPERATURE     float64\n",
       "dtype: object"
      ]
     },
     "execution_count": 10,
     "metadata": {},
     "output_type": "execute_result"
    }
   ],
   "source": [
    "df.dtypes"
   ]
  },
  {
   "cell_type": "code",
   "execution_count": 11,
   "metadata": {},
   "outputs": [],
   "source": [
    "df['TEMPERATURE'] = df['TEMPERATURE'].interpolate(method='linear')"
   ]
  },
  {
   "cell_type": "code",
   "execution_count": 12,
   "metadata": {},
   "outputs": [
    {
     "data": {
      "text/html": [
       "<div>\n",
       "<style scoped>\n",
       "    .dataframe tbody tr th:only-of-type {\n",
       "        vertical-align: middle;\n",
       "    }\n",
       "\n",
       "    .dataframe tbody tr th {\n",
       "        vertical-align: top;\n",
       "    }\n",
       "\n",
       "    .dataframe thead th {\n",
       "        text-align: right;\n",
       "    }\n",
       "</style>\n",
       "<table border=\"1\" class=\"dataframe\">\n",
       "  <thead>\n",
       "    <tr style=\"text-align: right;\">\n",
       "      <th></th>\n",
       "      <th>Date Time</th>\n",
       "      <th>Total Demand</th>\n",
       "      <th>TEMPERATURE</th>\n",
       "    </tr>\n",
       "  </thead>\n",
       "  <tbody>\n",
       "    <tr>\n",
       "      <td>0</td>\n",
       "      <td>2010-01-01 00:00:00</td>\n",
       "      <td>7997.41</td>\n",
       "      <td>23.100000</td>\n",
       "    </tr>\n",
       "    <tr>\n",
       "      <td>1</td>\n",
       "      <td>2010-01-01 00:05:00</td>\n",
       "      <td>7946.51</td>\n",
       "      <td>23.066667</td>\n",
       "    </tr>\n",
       "    <tr>\n",
       "      <td>2</td>\n",
       "      <td>2010-01-01 00:10:00</td>\n",
       "      <td>7921.55</td>\n",
       "      <td>23.033333</td>\n",
       "    </tr>\n",
       "    <tr>\n",
       "      <td>3</td>\n",
       "      <td>2010-01-01 00:15:00</td>\n",
       "      <td>7837.84</td>\n",
       "      <td>23.000000</td>\n",
       "    </tr>\n",
       "    <tr>\n",
       "      <td>4</td>\n",
       "      <td>2010-01-01 00:20:00</td>\n",
       "      <td>7781.11</td>\n",
       "      <td>22.966667</td>\n",
       "    </tr>\n",
       "    <tr>\n",
       "      <td>5</td>\n",
       "      <td>2010-01-01 00:25:00</td>\n",
       "      <td>7685.53</td>\n",
       "      <td>22.933333</td>\n",
       "    </tr>\n",
       "    <tr>\n",
       "      <td>6</td>\n",
       "      <td>2010-01-01 00:30:00</td>\n",
       "      <td>7683.34</td>\n",
       "      <td>22.900000</td>\n",
       "    </tr>\n",
       "    <tr>\n",
       "      <td>7</td>\n",
       "      <td>2010-01-01 00:35:00</td>\n",
       "      <td>7624.60</td>\n",
       "      <td>22.850000</td>\n",
       "    </tr>\n",
       "    <tr>\n",
       "      <td>8</td>\n",
       "      <td>2010-01-01 00:40:00</td>\n",
       "      <td>7606.74</td>\n",
       "      <td>22.800000</td>\n",
       "    </tr>\n",
       "    <tr>\n",
       "      <td>9</td>\n",
       "      <td>2010-01-01 00:45:00</td>\n",
       "      <td>7555.47</td>\n",
       "      <td>22.750000</td>\n",
       "    </tr>\n",
       "    <tr>\n",
       "      <td>10</td>\n",
       "      <td>2010-01-01 00:50:00</td>\n",
       "      <td>7497.55</td>\n",
       "      <td>22.700000</td>\n",
       "    </tr>\n",
       "    <tr>\n",
       "      <td>11</td>\n",
       "      <td>2010-01-01 00:55:00</td>\n",
       "      <td>7347.68</td>\n",
       "      <td>22.650000</td>\n",
       "    </tr>\n",
       "    <tr>\n",
       "      <td>12</td>\n",
       "      <td>2010-01-01 01:00:00</td>\n",
       "      <td>7270.08</td>\n",
       "      <td>22.600000</td>\n",
       "    </tr>\n",
       "    <tr>\n",
       "      <td>13</td>\n",
       "      <td>2010-01-01 01:05:00</td>\n",
       "      <td>7197.55</td>\n",
       "      <td>22.583333</td>\n",
       "    </tr>\n",
       "    <tr>\n",
       "      <td>14</td>\n",
       "      <td>2010-01-01 01:10:00</td>\n",
       "      <td>7208.13</td>\n",
       "      <td>22.566667</td>\n",
       "    </tr>\n",
       "  </tbody>\n",
       "</table>\n",
       "</div>"
      ],
      "text/plain": [
       "              Date Time  Total Demand  TEMPERATURE\n",
       "0   2010-01-01 00:00:00       7997.41    23.100000\n",
       "1   2010-01-01 00:05:00       7946.51    23.066667\n",
       "2   2010-01-01 00:10:00       7921.55    23.033333\n",
       "3   2010-01-01 00:15:00       7837.84    23.000000\n",
       "4   2010-01-01 00:20:00       7781.11    22.966667\n",
       "5   2010-01-01 00:25:00       7685.53    22.933333\n",
       "6   2010-01-01 00:30:00       7683.34    22.900000\n",
       "7   2010-01-01 00:35:00       7624.60    22.850000\n",
       "8   2010-01-01 00:40:00       7606.74    22.800000\n",
       "9   2010-01-01 00:45:00       7555.47    22.750000\n",
       "10  2010-01-01 00:50:00       7497.55    22.700000\n",
       "11  2010-01-01 00:55:00       7347.68    22.650000\n",
       "12  2010-01-01 01:00:00       7270.08    22.600000\n",
       "13  2010-01-01 01:05:00       7197.55    22.583333\n",
       "14  2010-01-01 01:10:00       7208.13    22.566667"
      ]
     },
     "execution_count": 12,
     "metadata": {},
     "output_type": "execute_result"
    }
   ],
   "source": [
    "df.head(15)"
   ]
  },
  {
   "cell_type": "code",
   "execution_count": null,
   "metadata": {},
   "outputs": [],
   "source": []
  },
  {
   "cell_type": "code",
   "execution_count": 13,
   "metadata": {},
   "outputs": [],
   "source": [
    "df['Date Time'] = pd.to_datetime(df['Date Time'])"
   ]
  },
  {
   "cell_type": "code",
   "execution_count": 14,
   "metadata": {},
   "outputs": [
    {
     "data": {
      "text/plain": [
       "<matplotlib.axes._subplots.AxesSubplot at 0x20d9d26d848>"
      ]
     },
     "execution_count": 14,
     "metadata": {},
     "output_type": "execute_result"
    },
    {
     "data": {
      "image/png": "[encoded data removed]",
      "text/plain": [
       "<Figure size 432x288 with 1 Axes>"
      ]
     },
     "metadata": {
      "needs_background": "light"
     },
     "output_type": "display_data"
    }
   ],
   "source": [
    "df.plot(x='Date Time' ,y= 'TEMPERATURE' )"
   ]
  },
  {
   "cell_type": "code",
   "execution_count": 15,
   "metadata": {},
   "outputs": [
    {
     "data": {
      "text/plain": [
       "<matplotlib.axes._subplots.AxesSubplot at 0x20da89a8508>"
      ]
     },
     "execution_count": 15,
     "metadata": {},
     "output_type": "execute_result"
    },
    {
     "data": {
      "image/png": "[encoded data removed]",
      "text/plain": [
       "<Figure size 432x288 with 1 Axes>"
      ]
     },
     "metadata": {
      "needs_background": "light"
     },
     "output_type": "display_data"
    }
   ],
   "source": [
    "df.plot(x='Date Time', y = 'Total Demand')"
   ]
  },
  {
   "cell_type": "code",
   "execution_count": 16,
   "metadata": {},
   "outputs": [],
   "source": [
    "forecast_demand['DATETIME'] = pd.to_datetime(forecast_demand['DATETIME'])"
   ]
  },
  {
   "cell_type": "code",
   "execution_count": 17,
   "metadata": {},
   "outputs": [],
   "source": [
    "actual_demand['DATETIME'] = pd.to_datetime(actual_demand['DATETIME'])"
   ]
  },
  {
   "cell_type": "code",
   "execution_count": 18,
   "metadata": {},
   "outputs": [
    {
     "data": {
      "text/plain": [
       "<matplotlib.axes._subplots.AxesSubplot at 0x20dad19a548>"
      ]
     },
     "execution_count": 18,
     "metadata": {},
     "output_type": "execute_result"
    },
    {
     "data": {
      "image/png": "[encoded data removed]",
      "text/plain": [
       "<Figure size 432x288 with 1 Axes>"
      ]
     },
     "metadata": {
      "needs_background": "light"
     },
     "output_type": "display_data"
    }
   ],
   "source": [
    "(forecast_demand.set_index('DATETIME').resample('1H').mean()['FORECASTDEMAND'] - actual_demand.set_index('DATETIME').resample('1H').mean()['TOTALDEMAND']).plot()"
   ]
  },
  {
   "cell_type": "code",
   "execution_count": 19,
   "metadata": {},
   "outputs": [],
   "source": [
    "act_demand = actual_demand.set_index('DATETIME').resample('1H').mean()"
   ]
  },
  {
   "cell_type": "code",
   "execution_count": 20,
   "metadata": {},
   "outputs": [],
   "source": [
    "act_demand['HourOfDay'] = act_demand.index.hour\n",
    "act_demand['DayOfWeek'] = act_demand.index.dayofweek\n",
    "act_demand['DayOfYear'] = act_demand.index.dayofyear"
   ]
  },
  {
   "cell_type": "code",
   "execution_count": 21,
   "metadata": {},
   "outputs": [
    {
     "data": {
      "text/html": [
       "<div>\n",
       "<style scoped>\n",
       "    .dataframe tbody tr th:only-of-type {\n",
       "        vertical-align: middle;\n",
       "    }\n",
       "\n",
       "    .dataframe tbody tr th {\n",
       "        vertical-align: top;\n",
       "    }\n",
       "\n",
       "    .dataframe thead th {\n",
       "        text-align: right;\n",
       "    }\n",
       "</style>\n",
       "<table border=\"1\" class=\"dataframe\">\n",
       "  <thead>\n",
       "    <tr style=\"text-align: right;\">\n",
       "      <th></th>\n",
       "      <th>TOTALDEMAND</th>\n",
       "      <th>HourOfDay</th>\n",
       "      <th>DayOfWeek</th>\n",
       "      <th>DayOfYear</th>\n",
       "    </tr>\n",
       "    <tr>\n",
       "      <th>DATETIME</th>\n",
       "      <th></th>\n",
       "      <th></th>\n",
       "      <th></th>\n",
       "      <th></th>\n",
       "    </tr>\n",
       "  </thead>\n",
       "  <tbody>\n",
       "    <tr>\n",
       "      <td>2010-01-01 00:00:00</td>\n",
       "      <td>7707.110833</td>\n",
       "      <td>0</td>\n",
       "      <td>4</td>\n",
       "      <td>1</td>\n",
       "    </tr>\n",
       "    <tr>\n",
       "      <td>2010-01-01 01:00:00</td>\n",
       "      <td>7014.171667</td>\n",
       "      <td>1</td>\n",
       "      <td>4</td>\n",
       "      <td>1</td>\n",
       "    </tr>\n",
       "    <tr>\n",
       "      <td>2010-01-01 02:00:00</td>\n",
       "      <td>6491.061667</td>\n",
       "      <td>2</td>\n",
       "      <td>4</td>\n",
       "      <td>1</td>\n",
       "    </tr>\n",
       "    <tr>\n",
       "      <td>2010-01-01 03:00:00</td>\n",
       "      <td>6256.344167</td>\n",
       "      <td>3</td>\n",
       "      <td>4</td>\n",
       "      <td>1</td>\n",
       "    </tr>\n",
       "    <tr>\n",
       "      <td>2010-01-01 04:00:00</td>\n",
       "      <td>6225.776667</td>\n",
       "      <td>4</td>\n",
       "      <td>4</td>\n",
       "      <td>1</td>\n",
       "    </tr>\n",
       "    <tr>\n",
       "      <td>...</td>\n",
       "      <td>...</td>\n",
       "      <td>...</td>\n",
       "      <td>...</td>\n",
       "      <td>...</td>\n",
       "    </tr>\n",
       "    <tr>\n",
       "      <td>2022-07-31 20:00:00</td>\n",
       "      <td>10081.598333</td>\n",
       "      <td>20</td>\n",
       "      <td>6</td>\n",
       "      <td>212</td>\n",
       "    </tr>\n",
       "    <tr>\n",
       "      <td>2022-07-31 21:00:00</td>\n",
       "      <td>9399.320000</td>\n",
       "      <td>21</td>\n",
       "      <td>6</td>\n",
       "      <td>212</td>\n",
       "    </tr>\n",
       "    <tr>\n",
       "      <td>2022-07-31 22:00:00</td>\n",
       "      <td>8769.945833</td>\n",
       "      <td>22</td>\n",
       "      <td>6</td>\n",
       "      <td>212</td>\n",
       "    </tr>\n",
       "    <tr>\n",
       "      <td>2022-07-31 23:00:00</td>\n",
       "      <td>8285.235833</td>\n",
       "      <td>23</td>\n",
       "      <td>6</td>\n",
       "      <td>212</td>\n",
       "    </tr>\n",
       "    <tr>\n",
       "      <td>2022-08-01 00:00:00</td>\n",
       "      <td>8027.280000</td>\n",
       "      <td>0</td>\n",
       "      <td>0</td>\n",
       "      <td>213</td>\n",
       "    </tr>\n",
       "  </tbody>\n",
       "</table>\n",
       "<p>110281 rows × 4 columns</p>\n",
       "</div>"
      ],
      "text/plain": [
       "                      TOTALDEMAND  HourOfDay  DayOfWeek  DayOfYear\n",
       "DATETIME                                                          \n",
       "2010-01-01 00:00:00   7707.110833          0          4          1\n",
       "2010-01-01 01:00:00   7014.171667          1          4          1\n",
       "2010-01-01 02:00:00   6491.061667          2          4          1\n",
       "2010-01-01 03:00:00   6256.344167          3          4          1\n",
       "2010-01-01 04:00:00   6225.776667          4          4          1\n",
       "...                           ...        ...        ...        ...\n",
       "2022-07-31 20:00:00  10081.598333         20          6        212\n",
       "2022-07-31 21:00:00   9399.320000         21          6        212\n",
       "2022-07-31 22:00:00   8769.945833         22          6        212\n",
       "2022-07-31 23:00:00   8285.235833         23          6        212\n",
       "2022-08-01 00:00:00   8027.280000          0          0        213\n",
       "\n",
       "[110281 rows x 4 columns]"
      ]
     },
     "execution_count": 21,
     "metadata": {},
     "output_type": "execute_result"
    }
   ],
   "source": [
    "act_demand"
   ]
  },
  {
   "cell_type": "code",
   "execution_count": 22,
   "metadata": {},
   "outputs": [],
   "source": [
    "temperature['DATETIME'] = pd.to_datetime(temperature['DATETIME'])"
   ]
  },
  {
   "cell_type": "code",
   "execution_count": 23,
   "metadata": {},
   "outputs": [],
   "source": [
    "temp = temperature.set_index('DATETIME').resample('1H').mean()"
   ]
  },
  {
   "cell_type": "code",
   "execution_count": 24,
   "metadata": {},
   "outputs": [
    {
     "data": {
      "text/html": [
       "<div>\n",
       "<style scoped>\n",
       "    .dataframe tbody tr th:only-of-type {\n",
       "        vertical-align: middle;\n",
       "    }\n",
       "\n",
       "    .dataframe tbody tr th {\n",
       "        vertical-align: top;\n",
       "    }\n",
       "\n",
       "    .dataframe thead th {\n",
       "        text-align: right;\n",
       "    }\n",
       "</style>\n",
       "<table border=\"1\" class=\"dataframe\">\n",
       "  <thead>\n",
       "    <tr style=\"text-align: right;\">\n",
       "      <th></th>\n",
       "      <th>LOCATION</th>\n",
       "      <th>TEMPERATURE</th>\n",
       "    </tr>\n",
       "    <tr>\n",
       "      <th>DATETIME</th>\n",
       "      <th></th>\n",
       "      <th></th>\n",
       "    </tr>\n",
       "  </thead>\n",
       "  <tbody>\n",
       "    <tr>\n",
       "      <td>2010-01-01 00:00:00</td>\n",
       "      <td>94766.0</td>\n",
       "      <td>22.95</td>\n",
       "    </tr>\n",
       "    <tr>\n",
       "      <td>2010-01-01 01:00:00</td>\n",
       "      <td>94766.0</td>\n",
       "      <td>22.55</td>\n",
       "    </tr>\n",
       "    <tr>\n",
       "      <td>2010-01-01 02:00:00</td>\n",
       "      <td>94766.0</td>\n",
       "      <td>22.45</td>\n",
       "    </tr>\n",
       "    <tr>\n",
       "      <td>2010-01-01 03:00:00</td>\n",
       "      <td>94766.0</td>\n",
       "      <td>22.30</td>\n",
       "    </tr>\n",
       "    <tr>\n",
       "      <td>2010-01-01 04:00:00</td>\n",
       "      <td>94766.0</td>\n",
       "      <td>22.15</td>\n",
       "    </tr>\n",
       "    <tr>\n",
       "      <td>...</td>\n",
       "      <td>...</td>\n",
       "      <td>...</td>\n",
       "    </tr>\n",
       "    <tr>\n",
       "      <td>2022-07-31 20:00:00</td>\n",
       "      <td>94766.0</td>\n",
       "      <td>13.90</td>\n",
       "    </tr>\n",
       "    <tr>\n",
       "      <td>2022-07-31 21:00:00</td>\n",
       "      <td>94766.0</td>\n",
       "      <td>14.10</td>\n",
       "    </tr>\n",
       "    <tr>\n",
       "      <td>2022-07-31 22:00:00</td>\n",
       "      <td>94766.0</td>\n",
       "      <td>13.60</td>\n",
       "    </tr>\n",
       "    <tr>\n",
       "      <td>2022-07-31 23:00:00</td>\n",
       "      <td>94766.0</td>\n",
       "      <td>13.00</td>\n",
       "    </tr>\n",
       "    <tr>\n",
       "      <td>2022-08-01 00:00:00</td>\n",
       "      <td>94766.0</td>\n",
       "      <td>12.10</td>\n",
       "    </tr>\n",
       "  </tbody>\n",
       "</table>\n",
       "<p>110281 rows × 2 columns</p>\n",
       "</div>"
      ],
      "text/plain": [
       "                     LOCATION  TEMPERATURE\n",
       "DATETIME                                  \n",
       "2010-01-01 00:00:00   94766.0        22.95\n",
       "2010-01-01 01:00:00   94766.0        22.55\n",
       "2010-01-01 02:00:00   94766.0        22.45\n",
       "2010-01-01 03:00:00   94766.0        22.30\n",
       "2010-01-01 04:00:00   94766.0        22.15\n",
       "...                       ...          ...\n",
       "2022-07-31 20:00:00   94766.0        13.90\n",
       "2022-07-31 21:00:00   94766.0        14.10\n",
       "2022-07-31 22:00:00   94766.0        13.60\n",
       "2022-07-31 23:00:00   94766.0        13.00\n",
       "2022-08-01 00:00:00   94766.0        12.10\n",
       "\n",
       "[110281 rows x 2 columns]"
      ]
     },
     "execution_count": 24,
     "metadata": {},
     "output_type": "execute_result"
    }
   ],
   "source": [
    "temp"
   ]
  },
  {
   "cell_type": "code",
   "execution_count": 25,
   "metadata": {},
   "outputs": [],
   "source": [
    "lag_value = -6\n",
    "\n",
    "# Apply the lag to the 'TOTALDEMAND' column\n",
    "temp['TEMPERATURE_lagged'] = temp['TEMPERATURE'].shift(periods=lag_value)"
   ]
  },
  {
   "cell_type": "code",
   "execution_count": 26,
   "metadata": {},
   "outputs": [
    {
     "data": {
      "text/html": [
       "<div>\n",
       "<style scoped>\n",
       "    .dataframe tbody tr th:only-of-type {\n",
       "        vertical-align: middle;\n",
       "    }\n",
       "\n",
       "    .dataframe tbody tr th {\n",
       "        vertical-align: top;\n",
       "    }\n",
       "\n",
       "    .dataframe thead th {\n",
       "        text-align: right;\n",
       "    }\n",
       "</style>\n",
       "<table border=\"1\" class=\"dataframe\">\n",
       "  <thead>\n",
       "    <tr style=\"text-align: right;\">\n",
       "      <th></th>\n",
       "      <th>LOCATION</th>\n",
       "      <th>TEMPERATURE</th>\n",
       "      <th>TEMPERATURE_lagged</th>\n",
       "    </tr>\n",
       "    <tr>\n",
       "      <th>DATETIME</th>\n",
       "      <th></th>\n",
       "      <th></th>\n",
       "      <th></th>\n",
       "    </tr>\n",
       "  </thead>\n",
       "  <tbody>\n",
       "    <tr>\n",
       "      <td>2010-01-01 00:00:00</td>\n",
       "      <td>94766.0</td>\n",
       "      <td>22.95</td>\n",
       "      <td>22.85</td>\n",
       "    </tr>\n",
       "    <tr>\n",
       "      <td>2010-01-01 01:00:00</td>\n",
       "      <td>94766.0</td>\n",
       "      <td>22.55</td>\n",
       "      <td>23.55</td>\n",
       "    </tr>\n",
       "    <tr>\n",
       "      <td>2010-01-01 02:00:00</td>\n",
       "      <td>94766.0</td>\n",
       "      <td>22.45</td>\n",
       "      <td>24.55</td>\n",
       "    </tr>\n",
       "    <tr>\n",
       "      <td>2010-01-01 03:00:00</td>\n",
       "      <td>94766.0</td>\n",
       "      <td>22.30</td>\n",
       "      <td>24.95</td>\n",
       "    </tr>\n",
       "    <tr>\n",
       "      <td>2010-01-01 04:00:00</td>\n",
       "      <td>94766.0</td>\n",
       "      <td>22.15</td>\n",
       "      <td>24.85</td>\n",
       "    </tr>\n",
       "    <tr>\n",
       "      <td>2010-01-01 05:00:00</td>\n",
       "      <td>94766.0</td>\n",
       "      <td>22.25</td>\n",
       "      <td>25.50</td>\n",
       "    </tr>\n",
       "    <tr>\n",
       "      <td>2010-01-01 06:00:00</td>\n",
       "      <td>94766.0</td>\n",
       "      <td>22.85</td>\n",
       "      <td>27.20</td>\n",
       "    </tr>\n",
       "    <tr>\n",
       "      <td>2010-01-01 07:00:00</td>\n",
       "      <td>94766.0</td>\n",
       "      <td>23.55</td>\n",
       "      <td>28.35</td>\n",
       "    </tr>\n",
       "    <tr>\n",
       "      <td>2010-01-01 08:00:00</td>\n",
       "      <td>94766.0</td>\n",
       "      <td>24.55</td>\n",
       "      <td>28.60</td>\n",
       "    </tr>\n",
       "    <tr>\n",
       "      <td>2010-01-01 09:00:00</td>\n",
       "      <td>94766.0</td>\n",
       "      <td>24.95</td>\n",
       "      <td>28.40</td>\n",
       "    </tr>\n",
       "    <tr>\n",
       "      <td>2010-01-01 10:00:00</td>\n",
       "      <td>94766.0</td>\n",
       "      <td>24.85</td>\n",
       "      <td>28.65</td>\n",
       "    </tr>\n",
       "    <tr>\n",
       "      <td>2010-01-01 11:00:00</td>\n",
       "      <td>94766.0</td>\n",
       "      <td>25.50</td>\n",
       "      <td>28.10</td>\n",
       "    </tr>\n",
       "    <tr>\n",
       "      <td>2010-01-01 12:00:00</td>\n",
       "      <td>94766.0</td>\n",
       "      <td>27.20</td>\n",
       "      <td>27.05</td>\n",
       "    </tr>\n",
       "    <tr>\n",
       "      <td>2010-01-01 13:00:00</td>\n",
       "      <td>94766.0</td>\n",
       "      <td>28.35</td>\n",
       "      <td>26.35</td>\n",
       "    </tr>\n",
       "    <tr>\n",
       "      <td>2010-01-01 14:00:00</td>\n",
       "      <td>94766.0</td>\n",
       "      <td>28.60</td>\n",
       "      <td>25.80</td>\n",
       "    </tr>\n",
       "    <tr>\n",
       "      <td>2010-01-01 15:00:00</td>\n",
       "      <td>94766.0</td>\n",
       "      <td>28.40</td>\n",
       "      <td>25.35</td>\n",
       "    </tr>\n",
       "    <tr>\n",
       "      <td>2010-01-01 16:00:00</td>\n",
       "      <td>94766.0</td>\n",
       "      <td>28.65</td>\n",
       "      <td>25.00</td>\n",
       "    </tr>\n",
       "    <tr>\n",
       "      <td>2010-01-01 17:00:00</td>\n",
       "      <td>94766.0</td>\n",
       "      <td>28.10</td>\n",
       "      <td>24.65</td>\n",
       "    </tr>\n",
       "    <tr>\n",
       "      <td>2010-01-01 18:00:00</td>\n",
       "      <td>94766.0</td>\n",
       "      <td>27.05</td>\n",
       "      <td>24.15</td>\n",
       "    </tr>\n",
       "    <tr>\n",
       "      <td>2010-01-01 19:00:00</td>\n",
       "      <td>94766.0</td>\n",
       "      <td>26.35</td>\n",
       "      <td>24.20</td>\n",
       "    </tr>\n",
       "  </tbody>\n",
       "</table>\n",
       "</div>"
      ],
      "text/plain": [
       "                     LOCATION  TEMPERATURE  TEMPERATURE_lagged\n",
       "DATETIME                                                      \n",
       "2010-01-01 00:00:00   94766.0        22.95               22.85\n",
       "2010-01-01 01:00:00   94766.0        22.55               23.55\n",
       "2010-01-01 02:00:00   94766.0        22.45               24.55\n",
       "2010-01-01 03:00:00   94766.0        22.30               24.95\n",
       "2010-01-01 04:00:00   94766.0        22.15               24.85\n",
       "2010-01-01 05:00:00   94766.0        22.25               25.50\n",
       "2010-01-01 06:00:00   94766.0        22.85               27.20\n",
       "2010-01-01 07:00:00   94766.0        23.55               28.35\n",
       "2010-01-01 08:00:00   94766.0        24.55               28.60\n",
       "2010-01-01 09:00:00   94766.0        24.95               28.40\n",
       "2010-01-01 10:00:00   94766.0        24.85               28.65\n",
       "2010-01-01 11:00:00   94766.0        25.50               28.10\n",
       "2010-01-01 12:00:00   94766.0        27.20               27.05\n",
       "2010-01-01 13:00:00   94766.0        28.35               26.35\n",
       "2010-01-01 14:00:00   94766.0        28.60               25.80\n",
       "2010-01-01 15:00:00   94766.0        28.40               25.35\n",
       "2010-01-01 16:00:00   94766.0        28.65               25.00\n",
       "2010-01-01 17:00:00   94766.0        28.10               24.65\n",
       "2010-01-01 18:00:00   94766.0        27.05               24.15\n",
       "2010-01-01 19:00:00   94766.0        26.35               24.20"
      ]
     },
     "execution_count": 26,
     "metadata": {},
     "output_type": "execute_result"
    }
   ],
   "source": [
    "temp.head(20)"
   ]
  },
  {
   "cell_type": "code",
   "execution_count": 27,
   "metadata": {},
   "outputs": [],
   "source": [
    "data = act_demand.merge(temp, left_index=True, right_index=True, how='inner')"
   ]
  },
  {
   "cell_type": "code",
   "execution_count": 28,
   "metadata": {},
   "outputs": [],
   "source": [
    "data = data.drop(['LOCATION','TEMPERATURE'], axis=1)"
   ]
  },
  {
   "cell_type": "code",
   "execution_count": 29,
   "metadata": {},
   "outputs": [],
   "source": [
    "data = data.dropna()"
   ]
  },
  {
   "cell_type": "code",
   "execution_count": 30,
   "metadata": {},
   "outputs": [],
   "source": [
    "import pandas as pd\n",
    "from sklearn.model_selection import train_test_split\n",
    "from sklearn.linear_model import LinearRegression\n",
    "from sklearn.metrics import mean_squared_error, r2_score"
   ]
  },
  {
   "cell_type": "code",
   "execution_count": 31,
   "metadata": {},
   "outputs": [
    {
     "name": "stdout",
     "output_type": "stream",
     "text": [
      "Mean Squared Error: 1227887.7601919665\n",
      "R-squared: 0.2612422800741172\n",
      "Coefficients: [  82.48693423 -124.89312747   -1.56466454  -15.36655834]\n",
      "Intercept: 8043.195578398628\n"
     ]
    }
   ],
   "source": [
    "target_column = 'TOTALDEMAND'\n",
    "feature_columns = [col for col in data.columns if col != target_column]\n",
    "\n",
    "# Split the dataset into training and testing sets\n",
    "X_train, X_test, y_train, y_test = train_test_split(data[feature_columns], data[target_column], test_size=0.2, random_state=42)\n",
    "\n",
    "# Create an instance of the LinearRegression model\n",
    "model = LinearRegression()\n",
    "\n",
    "# Train the model on the training data\n",
    "model.fit(X_train, y_train)\n",
    "\n",
    "# Make predictions on the test data\n",
    "y_pred = model.predict(X_test)\n",
    "\n",
    "# Evaluate the model's performance\n",
    "mse = mean_squared_error(y_test, y_pred)\n",
    "r2 = r2_score(y_test, y_pred)\n",
    "\n",
    "print(f\"Mean Squared Error: {mse}\")\n",
    "print(f\"R-squared: {r2}\")\n",
    "\n",
    "# Optionally, you can inspect the model coefficients and intercept\n",
    "coefficients = model.coef_\n",
    "intercept = model.intercept_\n",
    "\n",
    "print(\"Coefficients:\", coefficients)\n",
    "print(\"Intercept:\", intercept)"
   ]
  },
  {
   "cell_type": "code",
   "execution_count": 32,
   "metadata": {},
   "outputs": [
    {
     "data": {
      "image/png": "[encoded data removed]",
      "text/plain": [
       "<Figure size 576x432 with 1 Axes>"
      ]
     },
     "metadata": {
      "needs_background": "light"
     },
     "output_type": "display_data"
    }
   ],
   "source": [
    "import matplotlib.pyplot as plt\n",
    "\n",
    "plt.figure(figsize=(8, 6))\n",
    "plt.scatter(y_test, y_pred, alpha=0.5)\n",
    "plt.xlabel(\"Actual Values\")\n",
    "plt.ylabel(\"Predicted Values\")\n",
    "plt.title(\"Actual vs. Predicted Values\")\n",
    "\n",
    "# Add a diagonal line for reference (perfect predictions)\n",
    "plt.plot([min(y_test), max(y_test)], [min(y_test), max(y_test)], color='red', linestyle='--')\n",
    "\n",
    "plt.show()"
   ]
  },
  {
   "cell_type": "code",
   "execution_count": 33,
   "metadata": {},
   "outputs": [
    {
     "data": {
      "text/html": [
       "<div>\n",
       "<style scoped>\n",
       "    .dataframe tbody tr th:only-of-type {\n",
       "        vertical-align: middle;\n",
       "    }\n",
       "\n",
       "    .dataframe tbody tr th {\n",
       "        vertical-align: top;\n",
       "    }\n",
       "\n",
       "    .dataframe thead th {\n",
       "        text-align: right;\n",
       "    }\n",
       "</style>\n",
       "<table border=\"1\" class=\"dataframe\">\n",
       "  <thead>\n",
       "    <tr style=\"text-align: right;\">\n",
       "      <th></th>\n",
       "      <th>TOTALDEMAND</th>\n",
       "      <th>HourOfDay</th>\n",
       "      <th>DayOfWeek</th>\n",
       "      <th>DayOfYear</th>\n",
       "      <th>TEMPERATURE_lagged</th>\n",
       "    </tr>\n",
       "    <tr>\n",
       "      <th>DATETIME</th>\n",
       "      <th></th>\n",
       "      <th></th>\n",
       "      <th></th>\n",
       "      <th></th>\n",
       "      <th></th>\n",
       "    </tr>\n",
       "  </thead>\n",
       "  <tbody>\n",
       "    <tr>\n",
       "      <td>2010-01-01 00:00:00</td>\n",
       "      <td>7707.110833</td>\n",
       "      <td>0</td>\n",
       "      <td>4</td>\n",
       "      <td>1</td>\n",
       "      <td>22.85</td>\n",
       "    </tr>\n",
       "    <tr>\n",
       "      <td>2010-01-01 01:00:00</td>\n",
       "      <td>7014.171667</td>\n",
       "      <td>1</td>\n",
       "      <td>4</td>\n",
       "      <td>1</td>\n",
       "      <td>23.55</td>\n",
       "    </tr>\n",
       "    <tr>\n",
       "      <td>2010-01-01 02:00:00</td>\n",
       "      <td>6491.061667</td>\n",
       "      <td>2</td>\n",
       "      <td>4</td>\n",
       "      <td>1</td>\n",
       "      <td>24.55</td>\n",
       "    </tr>\n",
       "    <tr>\n",
       "      <td>2010-01-01 03:00:00</td>\n",
       "      <td>6256.344167</td>\n",
       "      <td>3</td>\n",
       "      <td>4</td>\n",
       "      <td>1</td>\n",
       "      <td>24.95</td>\n",
       "    </tr>\n",
       "    <tr>\n",
       "      <td>2010-01-01 04:00:00</td>\n",
       "      <td>6225.776667</td>\n",
       "      <td>4</td>\n",
       "      <td>4</td>\n",
       "      <td>1</td>\n",
       "      <td>24.85</td>\n",
       "    </tr>\n",
       "    <tr>\n",
       "      <td>...</td>\n",
       "      <td>...</td>\n",
       "      <td>...</td>\n",
       "      <td>...</td>\n",
       "      <td>...</td>\n",
       "      <td>...</td>\n",
       "    </tr>\n",
       "    <tr>\n",
       "      <td>2022-07-31 14:00:00</td>\n",
       "      <td>8100.300000</td>\n",
       "      <td>14</td>\n",
       "      <td>6</td>\n",
       "      <td>212</td>\n",
       "      <td>13.90</td>\n",
       "    </tr>\n",
       "    <tr>\n",
       "      <td>2022-07-31 15:00:00</td>\n",
       "      <td>8849.903333</td>\n",
       "      <td>15</td>\n",
       "      <td>6</td>\n",
       "      <td>212</td>\n",
       "      <td>14.10</td>\n",
       "    </tr>\n",
       "    <tr>\n",
       "      <td>2022-07-31 16:00:00</td>\n",
       "      <td>9762.349167</td>\n",
       "      <td>16</td>\n",
       "      <td>6</td>\n",
       "      <td>212</td>\n",
       "      <td>13.60</td>\n",
       "    </tr>\n",
       "    <tr>\n",
       "      <td>2022-07-31 17:00:00</td>\n",
       "      <td>10707.451667</td>\n",
       "      <td>17</td>\n",
       "      <td>6</td>\n",
       "      <td>212</td>\n",
       "      <td>13.00</td>\n",
       "    </tr>\n",
       "    <tr>\n",
       "      <td>2022-07-31 18:00:00</td>\n",
       "      <td>10997.250000</td>\n",
       "      <td>18</td>\n",
       "      <td>6</td>\n",
       "      <td>212</td>\n",
       "      <td>12.10</td>\n",
       "    </tr>\n",
       "  </tbody>\n",
       "</table>\n",
       "<p>110035 rows × 5 columns</p>\n",
       "</div>"
      ],
      "text/plain": [
       "                      TOTALDEMAND  HourOfDay  DayOfWeek  DayOfYear  \\\n",
       "DATETIME                                                             \n",
       "2010-01-01 00:00:00   7707.110833          0          4          1   \n",
       "2010-01-01 01:00:00   7014.171667          1          4          1   \n",
       "2010-01-01 02:00:00   6491.061667          2          4          1   \n",
       "2010-01-01 03:00:00   6256.344167          3          4          1   \n",
       "2010-01-01 04:00:00   6225.776667          4          4          1   \n",
       "...                           ...        ...        ...        ...   \n",
       "2022-07-31 14:00:00   8100.300000         14          6        212   \n",
       "2022-07-31 15:00:00   8849.903333         15          6        212   \n",
       "2022-07-31 16:00:00   9762.349167         16          6        212   \n",
       "2022-07-31 17:00:00  10707.451667         17          6        212   \n",
       "2022-07-31 18:00:00  10997.250000         18          6        212   \n",
       "\n",
       "                     TEMPERATURE_lagged  \n",
       "DATETIME                                 \n",
       "2010-01-01 00:00:00               22.85  \n",
       "2010-01-01 01:00:00               23.55  \n",
       "2010-01-01 02:00:00               24.55  \n",
       "2010-01-01 03:00:00               24.95  \n",
       "2010-01-01 04:00:00               24.85  \n",
       "...                                 ...  \n",
       "2022-07-31 14:00:00               13.90  \n",
       "2022-07-31 15:00:00               14.10  \n",
       "2022-07-31 16:00:00               13.60  \n",
       "2022-07-31 17:00:00               13.00  \n",
       "2022-07-31 18:00:00               12.10  \n",
       "\n",
       "[110035 rows x 5 columns]"
      ]
     },
     "execution_count": 33,
     "metadata": {},
     "output_type": "execute_result"
    }
   ],
   "source": [
    "data"
   ]
  },
  {
   "cell_type": "code",
   "execution_count": 34,
   "metadata": {},
   "outputs": [],
   "source": [
    "from sklearn.ensemble import RandomForestRegressor\n",
    "from sklearn.model_selection import train_test_split\n",
    "from sklearn.metrics import mean_squared_error, r2_score"
   ]
  },
  {
   "cell_type": "code",
   "execution_count": 35,
   "metadata": {},
   "outputs": [
    {
     "name": "stdout",
     "output_type": "stream",
     "text": [
      "Mean Squared Error: 908590.7448200997\n",
      "R-squared: 0.42685107578798176\n"
     ]
    }
   ],
   "source": [
    "# Define target and feature columns\n",
    "target_column = 'TOTALDEMAND'\n",
    "feature_columns = ['HourOfDay', 'DayOfWeek', 'DayOfYear', 'TEMPERATURE_lagged']\n",
    "\n",
    "# Set the date threshold for training data (end of November 2020)\n",
    "training_end_date = '2020-03-30'\n",
    "\n",
    "# Split the data into training and testing sets\n",
    "train_data = data.loc[data.index <= training_end_date]\n",
    "test_data = data.loc[data.index > training_end_date]\n",
    "\n",
    "# Define training and testing features and target\n",
    "X_train = train_data[feature_columns]\n",
    "y_train = train_data[target_column]\n",
    "\n",
    "X_test = test_data[feature_columns]\n",
    "y_test = test_data[target_column]\n",
    "\n",
    "# Create a Random Forest Regressor model\n",
    "rf_model = RandomForestRegressor(n_estimators=100, random_state=42)\n",
    "\n",
    "# Train the model on the training data\n",
    "rf_model.fit(X_train, y_train)\n",
    "\n",
    "# Make predictions on the test data\n",
    "y_pred = rf_model.predict(X_test)\n",
    "\n",
    "# Evaluate the model's performance\n",
    "mse = mean_squared_error(y_test, y_pred)\n",
    "r2 = r2_score(y_test, y_pred)\n",
    "\n",
    "print(f\"Mean Squared Error: {mse}\")\n",
    "print(f\"R-squared: {r2}\")"
   ]
  },
  {
   "cell_type": "code",
   "execution_count": 36,
   "metadata": {},
   "outputs": [
    {
     "data": {
      "image/png": "[encoded data removed]",
      "text/plain": [
       "<Figure size 576x432 with 1 Axes>"
      ]
     },
     "metadata": {
      "needs_background": "light"
     },
     "output_type": "display_data"
    }
   ],
   "source": [
    "# Create a scatter plot\n",
    "plt.figure(figsize=(8, 6))\n",
    "plt.scatter(y_test, y_pred, alpha=0.5)\n",
    "plt.xlabel(\"Actual Values\")\n",
    "plt.ylabel(\"Predicted Values\")\n",
    "plt.title(\"Actual vs. Predicted Values\")\n",
    "\n",
    "# Add a diagonal line for reference (perfect predictions)\n",
    "plt.plot([min(y_test), max(y_test)], [min(y_test), max(y_test)], color='red', linestyle='--')\n",
    "\n",
    "plt.show()"
   ]
  },
  {
   "cell_type": "code",
   "execution_count": 37,
   "metadata": {},
   "outputs": [],
   "source": [
    "cpi_file_path = '../data/inflation-data.xls'\n",
    "cpi = pd.read_excel(cpi_file_path)"
   ]
  },
  {
   "cell_type": "code",
   "execution_count": 38,
   "metadata": {},
   "outputs": [],
   "source": [
    "cpi = cpi[['G1 CONSUMER PRICE INFLATION','Unnamed: 2']][10:]\n",
    "column_rename_mapping = {\n",
    "    'G1 CONSUMER PRICE INFLATION': 'DATETIME',\n",
    "    'Unnamed: 2': 'CPI',\n",
    "}\n",
    "cpi = cpi.rename(columns=column_rename_mapping).dropna().set_index('DATETIME')"
   ]
  },
  {
   "cell_type": "code",
   "execution_count": 39,
   "metadata": {},
   "outputs": [],
   "source": [
    "min_date = data.index.min()\n",
    "max_date = data.index.max()"
   ]
  },
  {
   "cell_type": "code",
   "execution_count": 40,
   "metadata": {},
   "outputs": [],
   "source": [
    "cpi = cpi[(cpi.index >= min_date) & (cpi.index <= max_date)]"
   ]
  },
  {
   "cell_type": "code",
   "execution_count": 41,
   "metadata": {},
   "outputs": [],
   "source": [
    "date_range = pd.date_range(start=min_date, end=max_date,freq='1H')\n",
    "cpi = cpi.reindex(date_range).fillna(method='ffill')"
   ]
  },
  {
   "cell_type": "code",
   "execution_count": 42,
   "metadata": {},
   "outputs": [],
   "source": [
    "lag_value = -6\n",
    "# Apply the lag to the 'TOTALDEMAND' column\n",
    "cpi['CPI_lagged'] = cpi['CPI'].shift(periods=lag_value)"
   ]
  },
  {
   "cell_type": "code",
   "execution_count": 43,
   "metadata": {},
   "outputs": [],
   "source": [
    "df = pd.concat([data, cpi], axis=1)"
   ]
  },
  {
   "cell_type": "code",
   "execution_count": 44,
   "metadata": {},
   "outputs": [],
   "source": [
    "df = df.drop('CPI', axis = 1).dropna()"
   ]
  },
  {
   "cell_type": "code",
   "execution_count": 45,
   "metadata": {},
   "outputs": [
    {
     "name": "stdout",
     "output_type": "stream",
     "text": [
      "Mean Squared Error: 1149437.173020904\n",
      "R-squared: 0.27454615631613677\n"
     ]
    }
   ],
   "source": [
    "# Define target and feature columns\n",
    "target_column = 'TOTALDEMAND'\n",
    "feature_columns = ['HourOfDay', 'DayOfWeek', 'DayOfYear', 'TEMPERATURE_lagged','CPI_lagged']\n",
    "\n",
    "# Set the date threshold for training data (end of November 2020)\n",
    "training_end_date = '2020-03-30'\n",
    "\n",
    "# Split the data into training and testing sets\n",
    "train_data = df.loc[df.index <= training_end_date]\n",
    "test_data = df.loc[df.index > training_end_date]\n",
    "\n",
    "# Define training and testing features and target\n",
    "X_train = train_data[feature_columns]\n",
    "y_train = train_data[target_column]\n",
    "\n",
    "X_test = test_data[feature_columns]\n",
    "y_test = test_data[target_column]\n",
    "\n",
    "# Create a Random Forest Regressor model\n",
    "rf_model = RandomForestRegressor(n_estimators=100, random_state=42)\n",
    "\n",
    "# Train the model on the training data\n",
    "rf_model.fit(X_train, y_train)\n",
    "\n",
    "# Make predictions on the test data\n",
    "y_pred = rf_model.predict(X_test)\n",
    "\n",
    "# Evaluate the model's performance\n",
    "mse = mean_squared_error(y_test, y_pred)\n",
    "r2 = r2_score(y_test, y_pred)\n",
    "\n",
    "print(f\"Mean Squared Error: {mse}\")\n",
    "print(f\"R-squared: {r2}\")"
   ]
  },
  {
   "cell_type": "code",
   "execution_count": 46,
   "metadata": {},
   "outputs": [
    {
     "data": {
      "image/png": "[encoded data removed]",
      "text/plain": [
       "<Figure size 576x432 with 1 Axes>"
      ]
     },
     "metadata": {
      "needs_background": "light"
     },
     "output_type": "display_data"
    }
   ],
   "source": [
    "# Create a scatter plot\n",
    "plt.figure(figsize=(8, 6))\n",
    "plt.scatter(y_test, y_pred, alpha=0.5)\n",
    "plt.xlabel(\"Actual Values\")\n",
    "plt.ylabel(\"Predicted Values\")\n",
    "plt.title(\"Actual vs. Predicted Values\")\n",
    "\n",
    "# Add a diagonal line for reference (perfect predictions)\n",
    "plt.plot([min(y_test), max(y_test)], [min(y_test), max(y_test)], color='red', linestyle='--')\n",
    "\n",
    "plt.show()"
   ]
  },
  {
   "cell_type": "code",
   "execution_count": null,
   "metadata": {},
   "outputs": [],
   "source": []
  }
 ],
 "metadata": {
  "kernelspec": {
   "display_name": "Python 3",
   "language": "python",
   "name": "python3"
  },
  "language_info": {
   "codemirror_mode": {
    "name": "ipython",
    "version": 3
   },
   "file_extension": ".py",
   "mimetype": "text/x-python",
   "name": "python",
   "nbconvert_exporter": "python",
   "pygments_lexer": "ipython3",
   "version": "3.7.4"
  }
 },
 "nbformat": 4,
 "nbformat_minor": 2
}
