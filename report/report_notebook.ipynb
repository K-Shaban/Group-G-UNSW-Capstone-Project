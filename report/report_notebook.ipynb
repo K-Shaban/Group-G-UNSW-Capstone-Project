{
 "cells": [
  {
   "cell_type": "code",
   "execution_count": 9,
   "metadata": {},
   "outputs": [],
   "source": [
    "# Use this at the start of each algorithm notebook to get the final dataset\n",
    "import pandas as pd\n",
    "import numpy as np\n",
    "from datetime import datetime\n",
    "import warnings\n",
    "warnings.filterwarnings('ignore')\n",
    "\n",
    "final_data_path = '../data/final_data.csv'\n",
    "df = pd.read_csv(final_data_path, parse_dates=['datetime'])\n",
    "\n",
    "# X and y sets\n",
    "X = ['demand_5_min_lag','temperature_5_min_lag', 'Is weekday', 'Is weekend', 'regular day', 'public holiday']\n",
    "y = ['demand']\n",
    "\n",
    "# Train Data using only 2016 (Jan) - 2020 (Jan) data\n",
    "\n",
    "df_train = df[df['datetime'] > datetime(2016, 1, 1, 0, 0, 0)]\n",
    "df_train = df_train[df_train['datetime'] <=  datetime(2020, 3, 19, 0, 0, 0)]\n",
    "df_train.head()\n",
    "df_test = df[df['datetime'] > datetime(2020, 3, 19, 0, 0, 0)]"
   ]
  }
 ],
 "metadata": {
  "kernelspec": {
   "display_name": "Python 3",
   "language": "python",
   "name": "python3"
  },
  "language_info": {
   "codemirror_mode": {
    "name": "ipython",
    "version": 3
   },
   "file_extension": ".py",
   "mimetype": "text/x-python",
   "name": "python",
   "nbconvert_exporter": "python",
   "pygments_lexer": "ipython3",
   "version": "3.11.5"
  }
 },
 "nbformat": 4,
 "nbformat_minor": 2
}
